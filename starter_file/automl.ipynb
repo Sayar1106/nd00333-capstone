{
 "cells": [
  {
   "cell_type": "markdown",
   "metadata": {},
   "source": [
    "# Automated ML"
   ]
  },
  {
   "cell_type": "code",
   "execution_count": 21,
   "metadata": {
    "gather": {
     "logged": 1610274073066
    },
    "jupyter": {
     "outputs_hidden": false,
     "source_hidden": false
    },
    "nteract": {
     "transient": {
      "deleting": false
     }
    }
   },
   "outputs": [],
   "source": [
    "from azureml.core import Workspace, Experiment, Dataset\n",
    "from azureml.core.compute import ComputeTarget, AmlCompute\n",
    "from azureml.core.compute_target import ComputeTargetException\n",
    "from azureml.train.automl.utilities import get_primary_metrics\n",
    "from azureml.train.automl import AutoMLConfig\n",
    "from azureml.pipeline.steps import AutoMLStep\n",
    "from azureml.widgets import RunDetails\n",
    "import joblib \n",
    "from azureml.core.environment import Environment\n",
    "from azureml.core.model import InferenceConfig, Model\n",
    "from azureml.core.webservice.aci import AciWebservice\n",
    "from azureml.core.webservice import Webservice\n",
    "import os"
   ]
  },
  {
   "cell_type": "markdown",
   "metadata": {},
   "source": [
    "## Dataset\n",
    "\n",
    "### Overview\n",
    "\n",
    "The dataset contains data about employees within companies. The task is to predict whether an employee will leave their current employer.\n",
    "\n",
    "Features:\n",
    "\n",
    "* enrollee_id : Unique ID for candidate\n",
    "* city: City code\n",
    "* city_ development _index : Developement index of the city (scaled)\n",
    "* gender: Gender of candidate\n",
    "* relevent_experience: Relevant experience of candidate\n",
    "* enrolled_university: Type of University course enrolled if any\n",
    "* education_level: Education level of candidate\n",
    "* major_discipline :Education major discipline of candidate\n",
    "* experience: Candidate total experience in years\n",
    "* company_size: No of employees in current employer's company\n",
    "* company_type : Type of current employer\n",
    "* lastnewjob: Difference in years between previous job and current job\n",
    "* training_hours: training hours completed\n",
    "* target: 0 – Not looking for job change, 1 – Looking for a job change"
   ]
  },
  {
   "cell_type": "code",
   "execution_count": 2,
   "metadata": {
    "gather": {
     "logged": 1610268412048
    }
   },
   "outputs": [],
   "source": [
    "os.makedirs('results')"
   ]
  },
  {
   "cell_type": "code",
   "execution_count": 3,
   "metadata": {
    "gather": {
     "logged": 1610268527930
    },
    "jupyter": {
     "outputs_hidden": false,
     "source_hidden": false
    },
    "nteract": {
     "transient": {
      "deleting": false
     }
    }
   },
   "outputs": [
    {
     "name": "stdout",
     "output_type": "stream",
     "text": [
      "Workspace name: quick-starts-ws-134223\n",
      "Azure region: southcentralus\n",
      "Subscription id: 81cefad3-d2c9-4f77-a466-99a7f541c7bb\n",
      "Resource group: aml-quickstarts-134223\n"
     ]
    }
   ],
   "source": [
    "ws = Workspace.from_config()\n",
    "\n",
    "# choose a name for experiment\n",
    "experiment_name = 'hr-analytics-automl'\n",
    "\n",
    "# Check workspace details\n",
    "print('Workspace name: ' + ws.name, \n",
    "      'Azure region: ' + ws.location, \n",
    "      'Subscription id: ' + ws.subscription_id, \n",
    "      'Resource group: ' + ws.resource_group, sep = '\\n')\n",
    "\n",
    "experiment=Experiment(ws, experiment_name)"
   ]
  },
  {
   "cell_type": "code",
   "execution_count": 4,
   "metadata": {
    "gather": {
     "logged": 1610268551122
    }
   },
   "outputs": [
    {
     "name": "stdout",
     "output_type": "stream",
     "text": [
      "Cluster exists\n"
     ]
    }
   ],
   "source": [
    "# Check for existing cluster. Otherwise, create new cluster\n",
    "try:\n",
    "    cluster = ComputeTarget(workspace=ws, name=\"project-cluster\")\n",
    "    print(\"Cluster exists\")\n",
    "except:\n",
    "    config = AmlCompute.provisioning_configuration(vm_size='STANDARD_D2_V12', max_nodes=4)\n",
    "    cluster = ComputeTarget.create(ws, \"project-cluster\", config)\n",
    "\n",
    "cluster.wait_for_completion()"
   ]
  },
  {
   "cell_type": "code",
   "execution_count": 5,
   "metadata": {
    "gather": {
     "logged": 1610268691839
    }
   },
   "outputs": [],
   "source": [
    "train_data = Dataset.get_by_name(ws, name=\"hr-analytics\")"
   ]
  },
  {
   "cell_type": "code",
   "execution_count": 6,
   "metadata": {
    "gather": {
     "logged": 1610269123919
    },
    "jupyter": {
     "outputs_hidden": false,
     "source_hidden": false
    },
    "nteract": {
     "transient": {
      "deleting": false
     }
    }
   },
   "outputs": [],
   "source": [
    "train_data = train_data.drop_columns([\"enrollee_id\", \"city\"])"
   ]
  },
  {
   "cell_type": "code",
   "execution_count": 7,
   "metadata": {
    "gather": {
     "logged": 1610269125215
    },
    "jupyter": {
     "outputs_hidden": false,
     "source_hidden": false
    },
    "nteract": {
     "transient": {
      "deleting": false
     }
    }
   },
   "outputs": [
    {
     "data": {
      "text/html": [
       "<div>\n",
       "<style scoped>\n",
       "    .dataframe tbody tr th:only-of-type {\n",
       "        vertical-align: middle;\n",
       "    }\n",
       "\n",
       "    .dataframe tbody tr th {\n",
       "        vertical-align: top;\n",
       "    }\n",
       "\n",
       "    .dataframe thead th {\n",
       "        text-align: right;\n",
       "    }\n",
       "</style>\n",
       "<table border=\"1\" class=\"dataframe\">\n",
       "  <thead>\n",
       "    <tr style=\"text-align: right;\">\n",
       "      <th></th>\n",
       "      <th>city_development_index</th>\n",
       "      <th>gender</th>\n",
       "      <th>relevent_experience</th>\n",
       "      <th>enrolled_university</th>\n",
       "      <th>education_level</th>\n",
       "      <th>major_discipline</th>\n",
       "      <th>experience</th>\n",
       "      <th>company_size</th>\n",
       "      <th>company_type</th>\n",
       "      <th>last_new_job</th>\n",
       "      <th>training_hours</th>\n",
       "      <th>target</th>\n",
       "    </tr>\n",
       "  </thead>\n",
       "  <tbody>\n",
       "    <tr>\n",
       "      <th>0</th>\n",
       "      <td>0.920</td>\n",
       "      <td>Male</td>\n",
       "      <td>Has relevent experience</td>\n",
       "      <td>no_enrollment</td>\n",
       "      <td>Graduate</td>\n",
       "      <td>STEM</td>\n",
       "      <td>&gt;20</td>\n",
       "      <td>None</td>\n",
       "      <td>None</td>\n",
       "      <td>1</td>\n",
       "      <td>36</td>\n",
       "      <td>1.0</td>\n",
       "    </tr>\n",
       "    <tr>\n",
       "      <th>1</th>\n",
       "      <td>0.776</td>\n",
       "      <td>Male</td>\n",
       "      <td>No relevent experience</td>\n",
       "      <td>no_enrollment</td>\n",
       "      <td>Graduate</td>\n",
       "      <td>STEM</td>\n",
       "      <td>15</td>\n",
       "      <td>50-99</td>\n",
       "      <td>Pvt Ltd</td>\n",
       "      <td>&gt;4</td>\n",
       "      <td>47</td>\n",
       "      <td>0.0</td>\n",
       "    </tr>\n",
       "    <tr>\n",
       "      <th>2</th>\n",
       "      <td>0.624</td>\n",
       "      <td>None</td>\n",
       "      <td>No relevent experience</td>\n",
       "      <td>Full time course</td>\n",
       "      <td>Graduate</td>\n",
       "      <td>STEM</td>\n",
       "      <td>5</td>\n",
       "      <td>None</td>\n",
       "      <td>None</td>\n",
       "      <td>never</td>\n",
       "      <td>83</td>\n",
       "      <td>0.0</td>\n",
       "    </tr>\n",
       "    <tr>\n",
       "      <th>3</th>\n",
       "      <td>0.789</td>\n",
       "      <td>None</td>\n",
       "      <td>No relevent experience</td>\n",
       "      <td>None</td>\n",
       "      <td>Graduate</td>\n",
       "      <td>Business Degree</td>\n",
       "      <td>&lt;1</td>\n",
       "      <td>None</td>\n",
       "      <td>Pvt Ltd</td>\n",
       "      <td>never</td>\n",
       "      <td>52</td>\n",
       "      <td>1.0</td>\n",
       "    </tr>\n",
       "    <tr>\n",
       "      <th>4</th>\n",
       "      <td>0.767</td>\n",
       "      <td>Male</td>\n",
       "      <td>Has relevent experience</td>\n",
       "      <td>no_enrollment</td>\n",
       "      <td>Masters</td>\n",
       "      <td>STEM</td>\n",
       "      <td>&gt;20</td>\n",
       "      <td>50-99</td>\n",
       "      <td>Funded Startup</td>\n",
       "      <td>4</td>\n",
       "      <td>8</td>\n",
       "      <td>0.0</td>\n",
       "    </tr>\n",
       "  </tbody>\n",
       "</table>\n",
       "</div>"
      ],
      "text/plain": [
       "   city_development_index gender      relevent_experience enrolled_university  \\\n",
       "0                   0.920   Male  Has relevent experience       no_enrollment   \n",
       "1                   0.776   Male   No relevent experience       no_enrollment   \n",
       "2                   0.624   None   No relevent experience    Full time course   \n",
       "3                   0.789   None   No relevent experience                None   \n",
       "4                   0.767   Male  Has relevent experience       no_enrollment   \n",
       "\n",
       "  education_level major_discipline experience company_size    company_type  \\\n",
       "0        Graduate             STEM        >20         None            None   \n",
       "1        Graduate             STEM         15        50-99         Pvt Ltd   \n",
       "2        Graduate             STEM          5         None            None   \n",
       "3        Graduate  Business Degree         <1         None         Pvt Ltd   \n",
       "4         Masters             STEM        >20        50-99  Funded Startup   \n",
       "\n",
       "  last_new_job  training_hours  target  \n",
       "0            1              36     1.0  \n",
       "1           >4              47     0.0  \n",
       "2        never              83     0.0  \n",
       "3        never              52     1.0  \n",
       "4            4               8     0.0  "
      ]
     },
     "execution_count": 7,
     "metadata": {},
     "output_type": "execute_result"
    }
   ],
   "source": [
    "train_data.take(5).to_pandas_dataframe()"
   ]
  },
  {
   "cell_type": "markdown",
   "metadata": {},
   "source": [
    "## AutoML Configuration"
   ]
  },
  {
   "cell_type": "markdown",
   "metadata": {},
   "source": [
    "The task is a binary classification problem. We use accuracy as our primary metric and also use cross validation of 5 folds. Iterations are processed concurrently so as to speed up our training time. We have also enabled early stopping so as to prevent overfitting.\n",
    "\n",
    "Additionally, for auto feature scaling, we utilize  the \"featurization\" parameter whose value is set to \"auto\"."
   ]
  },
  {
   "cell_type": "code",
   "execution_count": 8,
   "metadata": {
    "gather": {
     "logged": 1610269132039
    }
   },
   "outputs": [
    {
     "data": {
      "text/plain": [
       "['precision_score_weighted',\n",
       " 'accuracy',\n",
       " 'norm_macro_recall',\n",
       " 'average_precision_score_weighted',\n",
       " 'AUC_weighted']"
      ]
     },
     "execution_count": 8,
     "metadata": {},
     "output_type": "execute_result"
    }
   ],
   "source": [
    "get_primary_metrics(\"classification\")"
   ]
  },
  {
   "cell_type": "code",
   "execution_count": 9,
   "metadata": {
    "gather": {
     "logged": 1610269649889
    },
    "jupyter": {
     "outputs_hidden": false,
     "source_hidden": false
    },
    "nteract": {
     "transient": {
      "deleting": false
     }
    }
   },
   "outputs": [],
   "source": [
    "automl_settings = {\n",
    "    \"experiment_timeout_minutes\": 30,\n",
    "    \"task\": \"classification\", \n",
    "    \"primary_metric\": \"accuracy\",\n",
    "    \"training_data\": train_data,\n",
    "    \"label_column_name\": \"target\",\n",
    "    \"n_cross_validations\": 5,\n",
    "    \"enable_early_stopping\": True,\n",
    "    \"featurization\": \"auto\",\n",
    "    \"max_cores_per_iteration\": -1,\n",
    "    \"max_concurrent_iterations\": 4,\n",
    "    \"compute_target\": cluster\n",
    "}\n",
    "\n",
    "\n",
    "automl_config = AutoMLConfig(**automl_settings)"
   ]
  },
  {
   "cell_type": "code",
   "execution_count": 10,
   "metadata": {
    "gather": {
     "logged": 1610272198097
    },
    "jupyter": {
     "outputs_hidden": false,
     "source_hidden": false
    },
    "nteract": {
     "transient": {
      "deleting": false
     }
    }
   },
   "outputs": [
    {
     "name": "stdout",
     "output_type": "stream",
     "text": [
      "Running on remote.\n",
      "No run_configuration provided, running on project-cluster with default configuration\n",
      "Running on remote compute: project-cluster\n",
      "Parent Run ID: AutoML_1a933934-0ea3-4fc1-b8da-5644fb2b70f1\n",
      "\n",
      "Current status: FeaturesGeneration. Generating features for the dataset.\n",
      "Current status: DatasetCrossValidationSplit. Generating individually featurized CV splits.\n",
      "Current status: ModelSelection. Beginning model selection.\n",
      "\n",
      "****************************************************************************************************\n",
      "DATA GUARDRAILS: \n",
      "\n",
      "TYPE:         Class balancing detection\n",
      "STATUS:       PASSED\n",
      "DESCRIPTION:  Your inputs were analyzed, and all classes are balanced in your training data.\n",
      "              Learn more about imbalanced data: https://aka.ms/AutomatedMLImbalancedData\n",
      "\n",
      "****************************************************************************************************\n",
      "\n",
      "TYPE:         Missing feature values imputation\n",
      "STATUS:       DONE\n",
      "DESCRIPTION:  If the missing values are expected, let the run complete. Otherwise cancel the current run and use a script to customize the handling of missing feature values that may be more appropriate based on the data type and business requirement.\n",
      "              Learn more about missing value imputation: https://aka.ms/AutomatedMLFeaturization\n",
      "DETAILS:      \n",
      "+---------------------------------+---------------------------------+\n",
      "|Column name                      |Missing value count              |\n",
      "+=================================+=================================+\n",
      "|gender                           |4508                             |\n",
      "|enrolled_university              |386                              |\n",
      "|education_level                  |460                              |\n",
      "|major_discipline                 |2813                             |\n",
      "|experience                       |65                               |\n",
      "|company_size                     |5938                             |\n",
      "|company_type                     |6140                             |\n",
      "|last_new_job                     |423                              |\n",
      "+---------------------------------+---------------------------------+\n",
      "\n",
      "****************************************************************************************************\n",
      "\n",
      "TYPE:         High cardinality feature detection\n",
      "STATUS:       PASSED\n",
      "DESCRIPTION:  Your inputs were analyzed, and no high cardinality features were detected.\n",
      "              Learn more about high cardinality feature handling: https://aka.ms/AutomatedMLFeaturization\n",
      "\n",
      "****************************************************************************************************\n",
      "\n",
      "****************************************************************************************************\n",
      "ITERATION: The iteration being evaluated.\n",
      "PIPELINE: A summary description of the pipeline being evaluated.\n",
      "DURATION: Time taken for the current iteration.\n",
      "METRIC: The result of computing score on the fitted pipeline.\n",
      "BEST: The best observed score thus far.\n",
      "****************************************************************************************************\n",
      "\n",
      " ITERATION   PIPELINE                                       DURATION      METRIC      BEST\n",
      "         3   MaxAbsScaler RandomForest                      0:00:49       0.7649    0.7649\n",
      "         1   MaxAbsScaler XGBoostClassifier                 0:00:57       0.7926    0.7926\n",
      "         0   MaxAbsScaler LightGBM                          0:00:47       0.7949    0.7949\n",
      "         2   MaxAbsScaler RandomForest                      0:00:51       0.7748    0.7949\n",
      "         4   MaxAbsScaler RandomForest                      0:00:49       0.7523    0.7949\n",
      "         8   SparseNormalizer XGBoostClassifier             0:00:53       0.7776    0.7949\n",
      "         5   MaxAbsScaler RandomForest                      0:02:26       0.6963    0.7949\n",
      "         7   SparseNormalizer XGBoostClassifier             0:02:15       0.7801    0.7949\n",
      "         6   SparseNormalizer XGBoostClassifier             0:02:50       0.7796    0.7949\n",
      "         9   MaxAbsScaler RandomForest                      0:01:04       0.7568    0.7949\n",
      "        10   StandardScalerWrapper RandomForest             0:00:54       0.7789    0.7949\n",
      "        11   MaxAbsScaler RandomForest                      0:00:46       0.7823    0.7949\n",
      "        12   MaxAbsScaler LightGBM                          0:00:42       0.7792    0.7949\n",
      "        13   MaxAbsScaler LogisticRegression                0:00:48       0.7719    0.7949\n",
      "        14   SparseNormalizer LightGBM                      0:00:49       0.7661    0.7949\n",
      "        15   MaxAbsScaler LightGBM                          0:00:43       0.7694    0.7949\n",
      "        16   MaxAbsScaler LogisticRegression                0:00:56       0.7727    0.7949\n",
      "        17   MaxAbsScaler LightGBM                          0:00:43       0.7742    0.7949\n",
      "        18   SparseNormalizer XGBoostClassifier             0:00:52       0.7765    0.7949\n",
      "        19   SparseNormalizer XGBoostClassifier             0:00:48       0.7777    0.7949\n",
      "        20   StandardScalerWrapper ExtremeRandomTrees       0:00:46       0.7507    0.7949\n",
      "        21   SparseNormalizer XGBoostClassifier             0:00:49       0.7759    0.7949\n",
      "        22   SparseNormalizer XGBoostClassifier             0:00:43       0.7715    0.7949\n",
      "        23   MaxAbsScaler LightGBM                          0:00:40       0.7507    0.7949\n",
      "        24   TruncatedSVDWrapper XGBoostClassifier          0:00:43       0.7584    0.7949\n",
      "        25   MaxAbsScaler LightGBM                          0:00:47       0.7507    0.7949\n",
      "        27   SparseNormalizer LightGBM                      0:00:39       0.7726    0.7949\n",
      "        26   SparseNormalizer XGBoostClassifier             0:00:53       0.7771    0.7949\n",
      "        28   StandardScalerWrapper XGBoostClassifier        0:00:43       0.7814    0.7949\n",
      "        29   StandardScalerWrapper LightGBM                 0:00:40       0.7738    0.7949\n",
      "        30   StandardScalerWrapper LightGBM                 0:00:53       0.7507    0.7949\n",
      "        31   SparseNormalizer XGBoostClassifier             0:00:45       0.7793    0.7949\n",
      "        32   MaxAbsScaler LightGBM                          0:00:39       0.7889    0.7949\n",
      "        33   MaxAbsScaler ExtremeRandomTrees                0:00:26          nan    0.7949\n",
      "        34                                                  0:00:17          nan    0.7949\n",
      "        35                                                  0:00:15          nan    0.7949\n",
      "        36    VotingEnsemble                                0:01:31       0.7996    0.7996\n",
      "        37    StackEnsemble                                 0:01:37       0.7930    0.7996\n"
     ]
    }
   ],
   "source": [
    "experiment = Experiment(workspace=ws, name=\"auto_exp\")\n",
    "remote_run = experiment.submit(automl_config, show_output=True)"
   ]
  },
  {
   "cell_type": "markdown",
   "metadata": {},
   "source": [
    "## Run Details"
   ]
  },
  {
   "cell_type": "code",
   "execution_count": 11,
   "metadata": {
    "gather": {
     "logged": 1610272198446
    },
    "jupyter": {
     "outputs_hidden": false,
     "source_hidden": false
    },
    "nteract": {
     "transient": {
      "deleting": false
     }
    }
   },
   "outputs": [
    {
     "data": {
      "application/vnd.jupyter.widget-view+json": {
       "model_id": "45a7731e8bc6444b8d17c0b086851f8a",
       "version_major": 2,
       "version_minor": 0
      },
      "text/plain": [
       "_AutoMLWidget(widget_settings={'childWidgetDisplay': 'popup', 'send_telemetry': False, 'log_level': 'INFO', 's…"
      ]
     },
     "metadata": {},
     "output_type": "display_data"
    },
    {
     "data": {
      "application/aml.mini.widget.v1": "{\"status\": \"Completed\", \"workbench_run_details_uri\": \"https://ml.azure.com/experiments/auto_exp/runs/AutoML_1a933934-0ea3-4fc1-b8da-5644fb2b70f1?wsid=/subscriptions/81cefad3-d2c9-4f77-a466-99a7f541c7bb/resourcegroups/aml-quickstarts-134223/workspaces/quick-starts-ws-134223\", \"run_id\": \"AutoML_1a933934-0ea3-4fc1-b8da-5644fb2b70f1\", \"run_properties\": {\"run_id\": \"AutoML_1a933934-0ea3-4fc1-b8da-5644fb2b70f1\", \"created_utc\": \"2021-01-10T14:43:23.174864Z\", \"properties\": {\"num_iterations\": \"1000\", \"training_type\": \"TrainFull\", \"acquisition_function\": \"EI\", \"primary_metric\": \"accuracy\", \"train_split\": \"0\", \"acquisition_parameter\": \"0\", \"num_cross_validation\": \"5\", \"target\": \"project-cluster\", \"AMLSettingsJsonString\": \"{\\\"path\\\":null,\\\"name\\\":\\\"auto_exp\\\",\\\"subscription_id\\\":\\\"81cefad3-d2c9-4f77-a466-99a7f541c7bb\\\",\\\"resource_group\\\":\\\"aml-quickstarts-134223\\\",\\\"workspace_name\\\":\\\"quick-starts-ws-134223\\\",\\\"region\\\":\\\"southcentralus\\\",\\\"compute_target\\\":\\\"project-cluster\\\",\\\"spark_service\\\":null,\\\"azure_service\\\":\\\"remote\\\",\\\"many_models\\\":false,\\\"pipeline_fetch_max_batch_size\\\":1,\\\"iterations\\\":1000,\\\"primary_metric\\\":\\\"accuracy\\\",\\\"task_type\\\":\\\"classification\\\",\\\"data_script\\\":null,\\\"validation_size\\\":0.0,\\\"n_cross_validations\\\":5,\\\"y_min\\\":null,\\\"y_max\\\":null,\\\"num_classes\\\":null,\\\"featurization\\\":\\\"auto\\\",\\\"_ignore_package_version_incompatibilities\\\":false,\\\"is_timeseries\\\":false,\\\"max_cores_per_iteration\\\":-1,\\\"max_concurrent_iterations\\\":4,\\\"iteration_timeout_minutes\\\":null,\\\"mem_in_mb\\\":null,\\\"enforce_time_on_windows\\\":false,\\\"experiment_timeout_minutes\\\":30,\\\"experiment_exit_score\\\":null,\\\"whitelist_models\\\":null,\\\"blacklist_algos\\\":[\\\"TensorFlowLinearClassifier\\\",\\\"TensorFlowDNN\\\"],\\\"supported_models\\\":[\\\"DecisionTree\\\",\\\"KNN\\\",\\\"LinearSVM\\\",\\\"LogisticRegression\\\",\\\"XGBoostClassifier\\\",\\\"GradientBoosting\\\",\\\"TensorFlowDNN\\\",\\\"RandomForest\\\",\\\"AveragedPerceptronClassifier\\\",\\\"BernoulliNaiveBayes\\\",\\\"ExtremeRandomTrees\\\",\\\"SVM\\\",\\\"TensorFlowLinearClassifier\\\",\\\"MultinomialNaiveBayes\\\",\\\"SGD\\\",\\\"LightGBM\\\"],\\\"auto_blacklist\\\":true,\\\"blacklist_samples_reached\\\":false,\\\"exclude_nan_labels\\\":true,\\\"verbosity\\\":20,\\\"_debug_log\\\":\\\"azureml_automl.log\\\",\\\"show_warnings\\\":false,\\\"model_explainability\\\":true,\\\"service_url\\\":null,\\\"sdk_url\\\":null,\\\"sdk_packages\\\":null,\\\"enable_onnx_compatible_models\\\":false,\\\"enable_split_onnx_featurizer_estimator_models\\\":false,\\\"vm_type\\\":\\\"STANDARD_D12_V2\\\",\\\"telemetry_verbosity\\\":20,\\\"send_telemetry\\\":true,\\\"enable_dnn\\\":false,\\\"scenario\\\":\\\"SDK-1.13.0\\\",\\\"environment_label\\\":null,\\\"force_text_dnn\\\":false,\\\"enable_feature_sweeping\\\":true,\\\"enable_early_stopping\\\":true,\\\"early_stopping_n_iters\\\":10,\\\"metrics\\\":null,\\\"enable_ensembling\\\":true,\\\"enable_stack_ensembling\\\":true,\\\"ensemble_iterations\\\":15,\\\"enable_tf\\\":false,\\\"enable_subsampling\\\":null,\\\"subsample_seed\\\":null,\\\"enable_nimbusml\\\":false,\\\"enable_streaming\\\":false,\\\"force_streaming\\\":false,\\\"track_child_runs\\\":true,\\\"allowed_private_models\\\":[],\\\"label_column_name\\\":\\\"target\\\",\\\"weight_column_name\\\":null,\\\"cv_split_column_names\\\":null,\\\"enable_local_managed\\\":false,\\\"_local_managed_run_id\\\":null,\\\"cost_mode\\\":1,\\\"lag_length\\\":0,\\\"metric_operation\\\":\\\"maximize\\\",\\\"preprocess\\\":true}\", \"DataPrepJsonString\": \"{\\\\\\\"training_data\\\\\\\": \\\\\\\"{\\\\\\\\\\\\\\\"blocks\\\\\\\\\\\\\\\": [{\\\\\\\\\\\\\\\"id\\\\\\\\\\\\\\\": \\\\\\\\\\\\\\\"0723e4a9-b2a8-4784-a80b-d4bf2763040b\\\\\\\\\\\\\\\", \\\\\\\\\\\\\\\"type\\\\\\\\\\\\\\\": \\\\\\\\\\\\\\\"Microsoft.DPrep.GetDatastoreFilesBlock\\\\\\\\\\\\\\\", \\\\\\\\\\\\\\\"arguments\\\\\\\\\\\\\\\": {\\\\\\\\\\\\\\\"datastores\\\\\\\\\\\\\\\": [{\\\\\\\\\\\\\\\"datastoreName\\\\\\\\\\\\\\\": \\\\\\\\\\\\\\\"workspaceblobstore\\\\\\\\\\\\\\\", \\\\\\\\\\\\\\\"path\\\\\\\\\\\\\\\": \\\\\\\\\\\\\\\"UI/01-10-2021_020103_UTC/train.csv\\\\\\\\\\\\\\\", \\\\\\\\\\\\\\\"resourceGroup\\\\\\\\\\\\\\\": \\\\\\\\\\\\\\\"aml-quickstarts-134223\\\\\\\\\\\\\\\", \\\\\\\\\\\\\\\"subscription\\\\\\\\\\\\\\\": \\\\\\\\\\\\\\\"81cefad3-d2c9-4f77-a466-99a7f541c7bb\\\\\\\\\\\\\\\", \\\\\\\\\\\\\\\"workspaceName\\\\\\\\\\\\\\\": \\\\\\\\\\\\\\\"quick-starts-ws-134223\\\\\\\\\\\\\\\"}]}, \\\\\\\\\\\\\\\"localData\\\\\\\\\\\\\\\": {}, \\\\\\\\\\\\\\\"isEnabled\\\\\\\\\\\\\\\": true, \\\\\\\\\\\\\\\"name\\\\\\\\\\\\\\\": null, \\\\\\\\\\\\\\\"annotation\\\\\\\\\\\\\\\": null}, {\\\\\\\\\\\\\\\"id\\\\\\\\\\\\\\\": \\\\\\\\\\\\\\\"5139a469-c689-4685-bee9-ae2bc6bbb260\\\\\\\\\\\\\\\", \\\\\\\\\\\\\\\"type\\\\\\\\\\\\\\\": \\\\\\\\\\\\\\\"Microsoft.DPrep.ParseDelimitedBlock\\\\\\\\\\\\\\\", \\\\\\\\\\\\\\\"arguments\\\\\\\\\\\\\\\": {\\\\\\\\\\\\\\\"columnHeadersMode\\\\\\\\\\\\\\\": 1, \\\\\\\\\\\\\\\"fileEncoding\\\\\\\\\\\\\\\": 0, \\\\\\\\\\\\\\\"handleQuotedLineBreaks\\\\\\\\\\\\\\\": false, \\\\\\\\\\\\\\\"preview\\\\\\\\\\\\\\\": false, \\\\\\\\\\\\\\\"separator\\\\\\\\\\\\\\\": \\\\\\\\\\\\\\\",\\\\\\\\\\\\\\\", \\\\\\\\\\\\\\\"skipRows\\\\\\\\\\\\\\\": 0, \\\\\\\\\\\\\\\"skipRowsMode\\\\\\\\\\\\\\\": 0}, \\\\\\\\\\\\\\\"localData\\\\\\\\\\\\\\\": {}, \\\\\\\\\\\\\\\"isEnabled\\\\\\\\\\\\\\\": true, \\\\\\\\\\\\\\\"name\\\\\\\\\\\\\\\": null, \\\\\\\\\\\\\\\"annotation\\\\\\\\\\\\\\\": null}, {\\\\\\\\\\\\\\\"id\\\\\\\\\\\\\\\": \\\\\\\\\\\\\\\"220bdb7d-406f-478b-b513-0187844fde73\\\\\\\\\\\\\\\", \\\\\\\\\\\\\\\"type\\\\\\\\\\\\\\\": \\\\\\\\\\\\\\\"Microsoft.DPrep.DropColumnsBlock\\\\\\\\\\\\\\\", \\\\\\\\\\\\\\\"arguments\\\\\\\\\\\\\\\": {\\\\\\\\\\\\\\\"columns\\\\\\\\\\\\\\\": {\\\\\\\\\\\\\\\"type\\\\\\\\\\\\\\\": 0, \\\\\\\\\\\\\\\"details\\\\\\\\\\\\\\\": {\\\\\\\\\\\\\\\"selectedColumns\\\\\\\\\\\\\\\": [\\\\\\\\\\\\\\\"Path\\\\\\\\\\\\\\\"]}}}, \\\\\\\\\\\\\\\"localData\\\\\\\\\\\\\\\": {}, \\\\\\\\\\\\\\\"isEnabled\\\\\\\\\\\\\\\": true, \\\\\\\\\\\\\\\"name\\\\\\\\\\\\\\\": null, \\\\\\\\\\\\\\\"annotation\\\\\\\\\\\\\\\": null}, {\\\\\\\\\\\\\\\"id\\\\\\\\\\\\\\\": \\\\\\\\\\\\\\\"6cf6d153-4c19-4ba5-9fed-9a9b815eea33\\\\\\\\\\\\\\\", \\\\\\\\\\\\\\\"type\\\\\\\\\\\\\\\": \\\\\\\\\\\\\\\"Microsoft.DPrep.SetColumnTypesBlock\\\\\\\\\\\\\\\", \\\\\\\\\\\\\\\"arguments\\\\\\\\\\\\\\\": {\\\\\\\\\\\\\\\"columnConversion\\\\\\\\\\\\\\\": [{\\\\\\\\\\\\\\\"column\\\\\\\\\\\\\\\": {\\\\\\\\\\\\\\\"type\\\\\\\\\\\\\\\": 2, \\\\\\\\\\\\\\\"details\\\\\\\\\\\\\\\": {\\\\\\\\\\\\\\\"selectedColumn\\\\\\\\\\\\\\\": \\\\\\\\\\\\\\\"Path\\\\\\\\\\\\\\\"}}, \\\\\\\\\\\\\\\"typeProperty\\\\\\\\\\\\\\\": 0}, {\\\\\\\\\\\\\\\"column\\\\\\\\\\\\\\\": {\\\\\\\\\\\\\\\"type\\\\\\\\\\\\\\\": 2, \\\\\\\\\\\\\\\"details\\\\\\\\\\\\\\\": {\\\\\\\\\\\\\\\"selectedColumn\\\\\\\\\\\\\\\": \\\\\\\\\\\\\\\"enrollee_id\\\\\\\\\\\\\\\"}}, \\\\\\\\\\\\\\\"typeProperty\\\\\\\\\\\\\\\": 2}, {\\\\\\\\\\\\\\\"column\\\\\\\\\\\\\\\": {\\\\\\\\\\\\\\\"type\\\\\\\\\\\\\\\": 2, \\\\\\\\\\\\\\\"details\\\\\\\\\\\\\\\": {\\\\\\\\\\\\\\\"selectedColumn\\\\\\\\\\\\\\\": \\\\\\\\\\\\\\\"city\\\\\\\\\\\\\\\"}}, \\\\\\\\\\\\\\\"typeProperty\\\\\\\\\\\\\\\": 0}, {\\\\\\\\\\\\\\\"column\\\\\\\\\\\\\\\": {\\\\\\\\\\\\\\\"type\\\\\\\\\\\\\\\": 2, \\\\\\\\\\\\\\\"details\\\\\\\\\\\\\\\": {\\\\\\\\\\\\\\\"selectedColumn\\\\\\\\\\\\\\\": \\\\\\\\\\\\\\\"city_development_index\\\\\\\\\\\\\\\"}}, \\\\\\\\\\\\\\\"typeProperty\\\\\\\\\\\\\\\": 3}, {\\\\\\\\\\\\\\\"column\\\\\\\\\\\\\\\": {\\\\\\\\\\\\\\\"type\\\\\\\\\\\\\\\": 2, \\\\\\\\\\\\\\\"details\\\\\\\\\\\\\\\": {\\\\\\\\\\\\\\\"selectedColumn\\\\\\\\\\\\\\\": \\\\\\\\\\\\\\\"gender\\\\\\\\\\\\\\\"}}, \\\\\\\\\\\\\\\"typeProperty\\\\\\\\\\\\\\\": 0}, {\\\\\\\\\\\\\\\"column\\\\\\\\\\\\\\\": {\\\\\\\\\\\\\\\"type\\\\\\\\\\\\\\\": 2, \\\\\\\\\\\\\\\"details\\\\\\\\\\\\\\\": {\\\\\\\\\\\\\\\"selectedColumn\\\\\\\\\\\\\\\": \\\\\\\\\\\\\\\"relevent_experience\\\\\\\\\\\\\\\"}}, \\\\\\\\\\\\\\\"typeProperty\\\\\\\\\\\\\\\": 0}, {\\\\\\\\\\\\\\\"column\\\\\\\\\\\\\\\": {\\\\\\\\\\\\\\\"type\\\\\\\\\\\\\\\": 2, \\\\\\\\\\\\\\\"details\\\\\\\\\\\\\\\": {\\\\\\\\\\\\\\\"selectedColumn\\\\\\\\\\\\\\\": \\\\\\\\\\\\\\\"enrolled_university\\\\\\\\\\\\\\\"}}, \\\\\\\\\\\\\\\"typeProperty\\\\\\\\\\\\\\\": 0}, {\\\\\\\\\\\\\\\"column\\\\\\\\\\\\\\\": {\\\\\\\\\\\\\\\"type\\\\\\\\\\\\\\\": 2, \\\\\\\\\\\\\\\"details\\\\\\\\\\\\\\\": {\\\\\\\\\\\\\\\"selectedColumn\\\\\\\\\\\\\\\": \\\\\\\\\\\\\\\"education_level\\\\\\\\\\\\\\\"}}, \\\\\\\\\\\\\\\"typeProperty\\\\\\\\\\\\\\\": 0}, {\\\\\\\\\\\\\\\"column\\\\\\\\\\\\\\\": {\\\\\\\\\\\\\\\"type\\\\\\\\\\\\\\\": 2, \\\\\\\\\\\\\\\"details\\\\\\\\\\\\\\\": {\\\\\\\\\\\\\\\"selectedColumn\\\\\\\\\\\\\\\": \\\\\\\\\\\\\\\"major_discipline\\\\\\\\\\\\\\\"}}, \\\\\\\\\\\\\\\"typeProperty\\\\\\\\\\\\\\\": 0}, {\\\\\\\\\\\\\\\"column\\\\\\\\\\\\\\\": {\\\\\\\\\\\\\\\"type\\\\\\\\\\\\\\\": 2, \\\\\\\\\\\\\\\"details\\\\\\\\\\\\\\\": {\\\\\\\\\\\\\\\"selectedColumn\\\\\\\\\\\\\\\": \\\\\\\\\\\\\\\"experience\\\\\\\\\\\\\\\"}}, \\\\\\\\\\\\\\\"typeProperty\\\\\\\\\\\\\\\": 0}, {\\\\\\\\\\\\\\\"column\\\\\\\\\\\\\\\": {\\\\\\\\\\\\\\\"type\\\\\\\\\\\\\\\": 2, \\\\\\\\\\\\\\\"details\\\\\\\\\\\\\\\": {\\\\\\\\\\\\\\\"selectedColumn\\\\\\\\\\\\\\\": \\\\\\\\\\\\\\\"company_size\\\\\\\\\\\\\\\"}}, \\\\\\\\\\\\\\\"typeProperty\\\\\\\\\\\\\\\": 0}, {\\\\\\\\\\\\\\\"column\\\\\\\\\\\\\\\": {\\\\\\\\\\\\\\\"type\\\\\\\\\\\\\\\": 2, \\\\\\\\\\\\\\\"details\\\\\\\\\\\\\\\": {\\\\\\\\\\\\\\\"selectedColumn\\\\\\\\\\\\\\\": \\\\\\\\\\\\\\\"company_type\\\\\\\\\\\\\\\"}}, \\\\\\\\\\\\\\\"typeProperty\\\\\\\\\\\\\\\": 0}, {\\\\\\\\\\\\\\\"column\\\\\\\\\\\\\\\": {\\\\\\\\\\\\\\\"type\\\\\\\\\\\\\\\": 2, \\\\\\\\\\\\\\\"details\\\\\\\\\\\\\\\": {\\\\\\\\\\\\\\\"selectedColumn\\\\\\\\\\\\\\\": \\\\\\\\\\\\\\\"last_new_job\\\\\\\\\\\\\\\"}}, \\\\\\\\\\\\\\\"typeProperty\\\\\\\\\\\\\\\": 0}, {\\\\\\\\\\\\\\\"column\\\\\\\\\\\\\\\": {\\\\\\\\\\\\\\\"type\\\\\\\\\\\\\\\": 2, \\\\\\\\\\\\\\\"details\\\\\\\\\\\\\\\": {\\\\\\\\\\\\\\\"selectedColumn\\\\\\\\\\\\\\\": \\\\\\\\\\\\\\\"training_hours\\\\\\\\\\\\\\\"}}, \\\\\\\\\\\\\\\"typeProperty\\\\\\\\\\\\\\\": 2}, {\\\\\\\\\\\\\\\"column\\\\\\\\\\\\\\\": {\\\\\\\\\\\\\\\"type\\\\\\\\\\\\\\\": 2, \\\\\\\\\\\\\\\"details\\\\\\\\\\\\\\\": {\\\\\\\\\\\\\\\"selectedColumn\\\\\\\\\\\\\\\": \\\\\\\\\\\\\\\"target\\\\\\\\\\\\\\\"}}, \\\\\\\\\\\\\\\"typeProperty\\\\\\\\\\\\\\\": 3}]}, \\\\\\\\\\\\\\\"localData\\\\\\\\\\\\\\\": {}, \\\\\\\\\\\\\\\"isEnabled\\\\\\\\\\\\\\\": true, \\\\\\\\\\\\\\\"name\\\\\\\\\\\\\\\": null, \\\\\\\\\\\\\\\"annotation\\\\\\\\\\\\\\\": null}, {\\\\\\\\\\\\\\\"id\\\\\\\\\\\\\\\": \\\\\\\\\\\\\\\"396ba986-7e58-4c35-9a38-cc05ebebff27\\\\\\\\\\\\\\\", \\\\\\\\\\\\\\\"type\\\\\\\\\\\\\\\": \\\\\\\\\\\\\\\"Microsoft.DPrep.DropColumnsBlock\\\\\\\\\\\\\\\", \\\\\\\\\\\\\\\"arguments\\\\\\\\\\\\\\\": {\\\\\\\\\\\\\\\"columns\\\\\\\\\\\\\\\": {\\\\\\\\\\\\\\\"type\\\\\\\\\\\\\\\": 0, \\\\\\\\\\\\\\\"details\\\\\\\\\\\\\\\": {\\\\\\\\\\\\\\\"selectedColumns\\\\\\\\\\\\\\\": [\\\\\\\\\\\\\\\"enrollee_id\\\\\\\\\\\\\\\", \\\\\\\\\\\\\\\"city\\\\\\\\\\\\\\\"]}}}, \\\\\\\\\\\\\\\"localData\\\\\\\\\\\\\\\": {}, \\\\\\\\\\\\\\\"isEnabled\\\\\\\\\\\\\\\": true, \\\\\\\\\\\\\\\"name\\\\\\\\\\\\\\\": null, \\\\\\\\\\\\\\\"annotation\\\\\\\\\\\\\\\": null}], \\\\\\\\\\\\\\\"inspectors\\\\\\\\\\\\\\\": [], \\\\\\\\\\\\\\\"meta\\\\\\\\\\\\\\\": {\\\\\\\\\\\\\\\"savedDatasetId\\\\\\\\\\\\\\\": \\\\\\\\\\\\\\\"8218dbc8-ac74-4159-a9a2-86fc38236840\\\\\\\\\\\\\\\", \\\\\\\\\\\\\\\"datasetType\\\\\\\\\\\\\\\": \\\\\\\\\\\\\\\"tabular\\\\\\\\\\\\\\\", \\\\\\\\\\\\\\\"subscriptionId\\\\\\\\\\\\\\\": \\\\\\\\\\\\\\\"81cefad3-d2c9-4f77-a466-99a7f541c7bb\\\\\\\\\\\\\\\", \\\\\\\\\\\\\\\"workspaceId\\\\\\\\\\\\\\\": \\\\\\\\\\\\\\\"d5d18d10-1940-44f7-93b7-8cff704998c1\\\\\\\\\\\\\\\", \\\\\\\\\\\\\\\"workspaceLocation\\\\\\\\\\\\\\\": \\\\\\\\\\\\\\\"southcentralus\\\\\\\\\\\\\\\"}}\\\\\\\", \\\\\\\"activities\\\\\\\": 0}\", \"EnableSubsampling\": null, \"runTemplate\": \"AutoML\", \"azureml.runsource\": \"automl\", \"display_task_type\": \"classification\", \"dependencies_versions\": \"{\\\"azureml-widgets\\\": \\\"1.19.0\\\", \\\"azureml-train\\\": \\\"1.19.0\\\", \\\"azureml-train-restclients-hyperdrive\\\": \\\"1.19.0\\\", \\\"azureml-train-core\\\": \\\"1.19.0\\\", \\\"azureml-train-automl\\\": \\\"1.19.0\\\", \\\"azureml-train-automl-runtime\\\": \\\"1.19.0\\\", \\\"azureml-train-automl-client\\\": \\\"1.19.0\\\", \\\"azureml-tensorboard\\\": \\\"1.19.0\\\", \\\"azureml-telemetry\\\": \\\"1.19.0\\\", \\\"azureml-sdk\\\": \\\"1.19.0\\\", \\\"azureml-samples\\\": \\\"0+unknown\\\", \\\"azureml-pipeline\\\": \\\"1.19.0\\\", \\\"azureml-pipeline-steps\\\": \\\"1.19.0\\\", \\\"azureml-pipeline-core\\\": \\\"1.19.0\\\", \\\"azureml-opendatasets\\\": \\\"1.19.0\\\", \\\"azureml-model-management-sdk\\\": \\\"1.0.1b6.post1\\\", \\\"azureml-mlflow\\\": \\\"1.19.0\\\", \\\"azureml-interpret\\\": \\\"1.19.0\\\", \\\"azureml-explain-model\\\": \\\"1.19.0\\\", \\\"azureml-defaults\\\": \\\"1.19.0\\\", \\\"azureml-dataset-runtime\\\": \\\"1.19.0\\\", \\\"azureml-dataprep\\\": \\\"2.6.1\\\", \\\"azureml-dataprep-rslex\\\": \\\"1.4.0\\\", \\\"azureml-dataprep-native\\\": \\\"26.0.0\\\", \\\"azureml-datadrift\\\": \\\"1.19.0\\\", \\\"azureml-core\\\": \\\"1.19.0\\\", \\\"azureml-contrib-services\\\": \\\"1.19.0\\\", \\\"azureml-contrib-server\\\": \\\"1.19.0\\\", \\\"azureml-contrib-reinforcementlearning\\\": \\\"1.19.0\\\", \\\"azureml-contrib-pipeline-steps\\\": \\\"1.19.0\\\", \\\"azureml-contrib-notebook\\\": \\\"1.19.0\\\", \\\"azureml-contrib-interpret\\\": \\\"1.19.0\\\", \\\"azureml-contrib-gbdt\\\": \\\"1.19.0\\\", \\\"azureml-contrib-fairness\\\": \\\"1.19.0\\\", \\\"azureml-contrib-dataset\\\": \\\"1.19.0\\\", \\\"azureml-cli-common\\\": \\\"1.19.0\\\", \\\"azureml-automl-runtime\\\": \\\"1.19.0\\\", \\\"azureml-automl-core\\\": \\\"1.19.0\\\", \\\"azureml-accel-models\\\": \\\"1.19.0\\\"}\", \"_aml_system_scenario_identification\": \"Remote.Parent\", \"ClientType\": \"SDK\", \"environment_cpu_name\": \"AzureML-AutoML\", \"environment_cpu_label\": \"prod\", \"environment_gpu_name\": \"AzureML-AutoML-GPU\", \"environment_gpu_label\": \"prod\", \"root_attribution\": \"automl\", \"attribution\": \"AutoML\", \"Orchestrator\": \"AutoML\", \"CancelUri\": \"https://southcentralus.experiments.azureml.net/jasmine/v1.0/subscriptions/81cefad3-d2c9-4f77-a466-99a7f541c7bb/resourceGroups/aml-quickstarts-134223/providers/Microsoft.MachineLearningServices/workspaces/quick-starts-ws-134223/experimentids/60c0c3ee-5325-451e-881b-4486c3a00768/cancel/AutoML_1a933934-0ea3-4fc1-b8da-5644fb2b70f1\", \"ClientSdkVersion\": \"1.19.0\", \"snapshotId\": \"00000000-0000-0000-0000-000000000000\", \"SetupRunId\": \"AutoML_1a933934-0ea3-4fc1-b8da-5644fb2b70f1_setup\", \"SetupRunContainerId\": \"dcid.AutoML_1a933934-0ea3-4fc1-b8da-5644fb2b70f1_setup\", \"FeaturizationRunJsonPath\": \"featurizer_container.json\", \"FeaturizationRunId\": \"AutoML_1a933934-0ea3-4fc1-b8da-5644fb2b70f1_featurize\", \"ProblemInfoJsonString\": \"{\\\"dataset_num_categorical\\\": 0, \\\"is_sparse\\\": true, \\\"subsampling\\\": false, \\\"dataset_classes\\\": 2, \\\"dataset_features\\\": 78, \\\"dataset_samples\\\": 19158, \\\"single_frequency_class_detected\\\": false}\", \"ModelExplainRunId\": \"AutoML_1a933934-0ea3-4fc1-b8da-5644fb2b70f1_ModelExplain\"}, \"tags\": {\"model_explain_run\": \"best_run\", \"_aml_system_azureml.automlComponent\": \"AutoML\", \"pipeline_id\": \"\", \"score\": \"\", \"predicted_cost\": \"\", \"fit_time\": \"\", \"training_percent\": \"\", \"iteration\": \"\", \"run_preprocessor\": \"\", \"run_algorithm\": \"\", \"dynamic_whitelisting_iterations\": \"<25>;<30>;<35>;\", \"automl_best_child_run_id\": \"AutoML_1a933934-0ea3-4fc1-b8da-5644fb2b70f1_36\", \"model_explain_best_run_child_id\": \"AutoML_1a933934-0ea3-4fc1-b8da-5644fb2b70f1_36\"}, \"end_time_utc\": \"2021-01-10T15:05:16.092778Z\", \"status\": \"Completed\", \"log_files\": {}, \"log_groups\": [], \"run_duration\": \"0:21:52\"}, \"child_runs\": [{\"run_id\": \"AutoML_1a933934-0ea3-4fc1-b8da-5644fb2b70f1_0\", \"run_number\": 5, \"metric\": null, \"status\": \"Completed\", \"run_type\": \"azureml.scriptrun\", \"training_percent\": \"100\", \"start_time\": \"2021-01-10T14:52:25.696254Z\", \"end_time\": \"2021-01-10T14:53:12.780438Z\", \"created_time\": \"2021-01-10T14:50:20.654862Z\", \"created_time_dt\": \"2021-01-10T14:50:20.654862Z\", \"duration\": \"0:02:52\", \"iteration\": \"0\", \"goal\": \"accuracy_max\", \"run_name\": \"MaxAbsScaler, LightGBM\", \"run_properties\": \"copy=True\", \"primary_metric\": 0.79486362, \"best_metric\": 0.79486362}, {\"run_id\": \"AutoML_1a933934-0ea3-4fc1-b8da-5644fb2b70f1_1\", \"run_number\": 6, \"metric\": null, \"status\": \"Completed\", \"run_type\": \"azureml.scriptrun\", \"training_percent\": \"100\", \"start_time\": \"2021-01-10T14:51:24.542014Z\", \"end_time\": \"2021-01-10T14:52:21.219149Z\", \"created_time\": \"2021-01-10T14:50:20.765097Z\", \"created_time_dt\": \"2021-01-10T14:50:20.765097Z\", \"duration\": \"0:02:00\", \"iteration\": \"1\", \"goal\": \"accuracy_max\", \"run_name\": \"MaxAbsScaler, XGBoostClassifier\", \"run_properties\": \"copy=True\", \"primary_metric\": 0.79256706, \"best_metric\": 0.79486362}, {\"run_id\": \"AutoML_1a933934-0ea3-4fc1-b8da-5644fb2b70f1_2\", \"run_number\": 7, \"metric\": null, \"status\": \"Completed\", \"run_type\": \"azureml.scriptrun\", \"training_percent\": \"100\", \"start_time\": \"2021-01-10T14:53:13.150081Z\", \"end_time\": \"2021-01-10T14:54:03.923019Z\", \"created_time\": \"2021-01-10T14:50:20.855606Z\", \"created_time_dt\": \"2021-01-10T14:50:20.855606Z\", \"duration\": \"0:03:43\", \"iteration\": \"2\", \"goal\": \"accuracy_max\", \"run_name\": \"MaxAbsScaler, RandomForest\", \"run_properties\": \"copy=True\", \"primary_metric\": 0.77481962, \"best_metric\": 0.79486362}, {\"run_id\": \"AutoML_1a933934-0ea3-4fc1-b8da-5644fb2b70f1_3\", \"run_number\": 8, \"metric\": null, \"status\": \"Completed\", \"run_type\": \"azureml.scriptrun\", \"training_percent\": \"100\", \"start_time\": \"2021-01-10T14:50:32.472871Z\", \"end_time\": \"2021-01-10T14:51:21.185494Z\", \"created_time\": \"2021-01-10T14:50:20.943936Z\", \"created_time_dt\": \"2021-01-10T14:50:20.943936Z\", \"duration\": \"0:01:00\", \"iteration\": \"3\", \"goal\": \"accuracy_max\", \"run_name\": \"MaxAbsScaler, RandomForest\", \"run_properties\": \"copy=True\", \"primary_metric\": 0.76490214, \"best_metric\": 0.79486362}, {\"run_id\": \"AutoML_1a933934-0ea3-4fc1-b8da-5644fb2b70f1_4\", \"run_number\": 9, \"metric\": null, \"status\": \"Completed\", \"run_type\": \"azureml.scriptrun\", \"training_percent\": \"100\", \"start_time\": \"2021-01-10T14:54:11.422758Z\", \"end_time\": \"2021-01-10T14:55:00.744933Z\", \"created_time\": \"2021-01-10T14:51:24.53055Z\", \"created_time_dt\": \"2021-01-10T14:51:24.53055Z\", \"duration\": \"0:03:36\", \"iteration\": \"4\", \"goal\": \"accuracy_max\", \"run_name\": \"MaxAbsScaler, RandomForest\", \"run_properties\": \"copy=True\", \"primary_metric\": 0.75227051, \"best_metric\": 0.79486362}, {\"run_id\": \"AutoML_1a933934-0ea3-4fc1-b8da-5644fb2b70f1_5\", \"run_number\": 10, \"metric\": null, \"status\": \"Completed\", \"run_type\": \"azureml.scriptrun\", \"training_percent\": \"100\", \"start_time\": \"2021-01-10T14:54:12.870615Z\", \"end_time\": \"2021-01-10T14:56:39.325225Z\", \"created_time\": \"2021-01-10T14:52:24.533481Z\", \"created_time_dt\": \"2021-01-10T14:52:24.533481Z\", \"duration\": \"0:04:14\", \"iteration\": \"5\", \"goal\": \"accuracy_max\", \"run_name\": \"MaxAbsScaler, RandomForest\", \"run_properties\": \"copy=True\", \"primary_metric\": 0.69626236, \"best_metric\": 0.79486362}, {\"run_id\": \"AutoML_1a933934-0ea3-4fc1-b8da-5644fb2b70f1_6\", \"run_number\": 11, \"metric\": null, \"status\": \"Completed\", \"run_type\": \"azureml.scriptrun\", \"training_percent\": \"100\", \"start_time\": \"2021-01-10T14:54:11.167161Z\", \"end_time\": \"2021-01-10T14:57:00.839789Z\", \"created_time\": \"2021-01-10T14:53:16.116627Z\", \"created_time_dt\": \"2021-01-10T14:53:16.116627Z\", \"duration\": \"0:03:44\", \"iteration\": \"6\", \"goal\": \"accuracy_max\", \"run_name\": \"SparseNormalizer, XGBoostClassifier\", \"run_properties\": \"<azureml.automl.runtime.shared.model_wrappers.SparseNormalizer object at 0x7f314c1f8dd8\", \"primary_metric\": 0.77962202, \"best_metric\": 0.79486362}, {\"run_id\": \"AutoML_1a933934-0ea3-4fc1-b8da-5644fb2b70f1_7\", \"run_number\": 12, \"metric\": null, \"status\": \"Completed\", \"run_type\": \"azureml.scriptrun\", \"training_percent\": \"100\", \"start_time\": \"2021-01-10T14:54:19.149577Z\", \"end_time\": \"2021-01-10T14:56:34.634787Z\", \"created_time\": \"2021-01-10T14:54:06.702376Z\", \"created_time_dt\": \"2021-01-10T14:54:06.702376Z\", \"duration\": \"0:02:27\", \"iteration\": \"7\", \"goal\": \"accuracy_max\", \"run_name\": \"SparseNormalizer, XGBoostClassifier\", \"run_properties\": \"<azureml.automl.runtime.shared.model_wrappers.SparseNormalizer object at 0x7fb8ac4563c8\", \"primary_metric\": 0.78009162, \"best_metric\": 0.79486362}, {\"run_id\": \"AutoML_1a933934-0ea3-4fc1-b8da-5644fb2b70f1_8\", \"run_number\": 13, \"metric\": null, \"status\": \"Completed\", \"run_type\": \"azureml.scriptrun\", \"training_percent\": \"100\", \"start_time\": \"2021-01-10T14:55:17.088721Z\", \"end_time\": \"2021-01-10T14:56:10.21646Z\", \"created_time\": \"2021-01-10T14:55:03.315221Z\", \"created_time_dt\": \"2021-01-10T14:55:03.315221Z\", \"duration\": \"0:01:06\", \"iteration\": \"8\", \"goal\": \"accuracy_max\", \"run_name\": \"SparseNormalizer, XGBoostClassifier\", \"run_properties\": \"<azureml.automl.runtime.shared.model_wrappers.SparseNormalizer object at 0x7f440e9be860\", \"primary_metric\": 0.77763858, \"best_metric\": 0.79486362}, {\"run_id\": \"AutoML_1a933934-0ea3-4fc1-b8da-5644fb2b70f1_9\", \"run_number\": 14, \"metric\": null, \"status\": \"Completed\", \"run_type\": \"azureml.scriptrun\", \"training_percent\": \"100\", \"start_time\": \"2021-01-10T14:56:25.141989Z\", \"end_time\": \"2021-01-10T14:57:29.002981Z\", \"created_time\": \"2021-01-10T14:56:12.936368Z\", \"created_time_dt\": \"2021-01-10T14:56:12.936368Z\", \"duration\": \"0:01:16\", \"iteration\": \"9\", \"goal\": \"accuracy_max\", \"run_name\": \"MaxAbsScaler, RandomForest\", \"run_properties\": \"copy=True\", \"primary_metric\": 0.7567591, \"best_metric\": 0.79486362}, {\"run_id\": \"AutoML_1a933934-0ea3-4fc1-b8da-5644fb2b70f1_10\", \"run_number\": 15, \"metric\": null, \"status\": \"Completed\", \"run_type\": \"azureml.scriptrun\", \"training_percent\": \"100\", \"start_time\": \"2021-01-10T14:56:52.773254Z\", \"end_time\": \"2021-01-10T14:57:46.8463Z\", \"created_time\": \"2021-01-10T14:56:41.618907Z\", \"created_time_dt\": \"2021-01-10T14:56:41.618907Z\", \"duration\": \"0:01:05\", \"iteration\": \"10\", \"goal\": \"accuracy_max\", \"run_name\": \"StandardScalerWrapper, RandomForest\", \"run_properties\": \"<azureml.automl.runtime.shared.model_wrappers.StandardScalerWrapper object at 0x7fa0a14fa710\", \"primary_metric\": 0.77889148, \"best_metric\": 0.79486362}, {\"run_id\": \"AutoML_1a933934-0ea3-4fc1-b8da-5644fb2b70f1_11\", \"run_number\": 16, \"metric\": null, \"status\": \"Completed\", \"run_type\": \"azureml.scriptrun\", \"training_percent\": \"100\", \"start_time\": \"2021-01-10T14:56:57.470383Z\", \"end_time\": \"2021-01-10T14:57:43.122259Z\", \"created_time\": \"2021-01-10T14:56:45.333875Z\", \"created_time_dt\": \"2021-01-10T14:56:45.333875Z\", \"duration\": \"0:00:57\", \"iteration\": \"11\", \"goal\": \"accuracy_max\", \"run_name\": \"MaxAbsScaler, RandomForest\", \"run_properties\": \"copy=True\", \"primary_metric\": 0.78233667, \"best_metric\": 0.79486362}, {\"run_id\": \"AutoML_1a933934-0ea3-4fc1-b8da-5644fb2b70f1_12\", \"run_number\": 17, \"metric\": null, \"status\": \"Completed\", \"run_type\": \"azureml.scriptrun\", \"training_percent\": \"100\", \"start_time\": \"2021-01-10T14:57:13.280594Z\", \"end_time\": \"2021-01-10T14:57:55.766777Z\", \"created_time\": \"2021-01-10T14:57:02.72485Z\", \"created_time_dt\": \"2021-01-10T14:57:02.72485Z\", \"duration\": \"0:00:53\", \"iteration\": \"12\", \"goal\": \"accuracy_max\", \"run_name\": \"MaxAbsScaler, LightGBM\", \"run_properties\": \"copy=True\", \"primary_metric\": 0.77920453, \"best_metric\": 0.79486362}, {\"run_id\": \"AutoML_1a933934-0ea3-4fc1-b8da-5644fb2b70f1_13\", \"run_number\": 18, \"metric\": null, \"status\": \"Completed\", \"run_type\": \"azureml.scriptrun\", \"training_percent\": \"100\", \"start_time\": \"2021-01-10T14:57:42.789114Z\", \"end_time\": \"2021-01-10T14:58:31.240688Z\", \"created_time\": \"2021-01-10T14:57:30.68625Z\", \"created_time_dt\": \"2021-01-10T14:57:30.68625Z\", \"duration\": \"0:01:00\", \"iteration\": \"13\", \"goal\": \"accuracy_max\", \"run_name\": \"MaxAbsScaler, LogisticRegression\", \"run_properties\": \"copy=True\", \"primary_metric\": 0.77189676, \"best_metric\": 0.79486362}, {\"run_id\": \"AutoML_1a933934-0ea3-4fc1-b8da-5644fb2b70f1_14\", \"run_number\": 19, \"metric\": null, \"status\": \"Completed\", \"run_type\": \"azureml.scriptrun\", \"training_percent\": \"100\", \"start_time\": \"2021-01-10T14:57:56.292091Z\", \"end_time\": \"2021-01-10T14:58:45.032541Z\", \"created_time\": \"2021-01-10T14:57:44.847675Z\", \"created_time_dt\": \"2021-01-10T14:57:44.847675Z\", \"duration\": \"0:01:00\", \"iteration\": \"14\", \"goal\": \"accuracy_max\", \"run_name\": \"SparseNormalizer, LightGBM\", \"run_properties\": \"<azureml.automl.runtime.shared.model_wrappers.SparseNormalizer object at 0x7f8f91159dd8\", \"primary_metric\": 0.76610243, \"best_metric\": 0.79486362}, {\"run_id\": \"AutoML_1a933934-0ea3-4fc1-b8da-5644fb2b70f1_15\", \"run_number\": 20, \"metric\": null, \"status\": \"Completed\", \"run_type\": \"azureml.scriptrun\", \"training_percent\": \"100\", \"start_time\": \"2021-01-10T14:58:00.464645Z\", \"end_time\": \"2021-01-10T14:58:43.114184Z\", \"created_time\": \"2021-01-10T14:57:48.588063Z\", \"created_time_dt\": \"2021-01-10T14:57:48.588063Z\", \"duration\": \"0:00:54\", \"iteration\": \"15\", \"goal\": \"accuracy_max\", \"run_name\": \"MaxAbsScaler, LightGBM\", \"run_properties\": \"copy=True\", \"primary_metric\": 0.76944335, \"best_metric\": 0.79486362}, {\"run_id\": \"AutoML_1a933934-0ea3-4fc1-b8da-5644fb2b70f1_16\", \"run_number\": 21, \"metric\": null, \"status\": \"Completed\", \"run_type\": \"azureml.scriptrun\", \"training_percent\": \"100\", \"start_time\": \"2021-01-10T14:58:07.856179Z\", \"end_time\": \"2021-01-10T14:59:04.141589Z\", \"created_time\": \"2021-01-10T14:57:57.902586Z\", \"created_time_dt\": \"2021-01-10T14:57:57.902586Z\", \"duration\": \"0:01:06\", \"iteration\": \"16\", \"goal\": \"accuracy_max\", \"run_name\": \"MaxAbsScaler, LogisticRegression\", \"run_properties\": \"copy=True\", \"primary_metric\": 0.77273183, \"best_metric\": 0.79486362}, {\"run_id\": \"AutoML_1a933934-0ea3-4fc1-b8da-5644fb2b70f1_17\", \"run_number\": 22, \"metric\": null, \"status\": \"Completed\", \"run_type\": \"azureml.scriptrun\", \"training_percent\": \"100\", \"start_time\": \"2021-01-10T14:58:43.03826Z\", \"end_time\": \"2021-01-10T14:59:25.580127Z\", \"created_time\": \"2021-01-10T14:58:33.066368Z\", \"created_time_dt\": \"2021-01-10T14:58:33.066368Z\", \"duration\": \"0:00:52\", \"iteration\": \"17\", \"goal\": \"accuracy_max\", \"run_name\": \"MaxAbsScaler, LightGBM\", \"run_properties\": \"copy=True\", \"primary_metric\": 0.77424548, \"best_metric\": 0.79486362}, {\"run_id\": \"AutoML_1a933934-0ea3-4fc1-b8da-5644fb2b70f1_18\", \"run_number\": 23, \"metric\": null, \"status\": \"Completed\", \"run_type\": \"azureml.scriptrun\", \"training_percent\": \"100\", \"start_time\": \"2021-01-10T14:58:56.220656Z\", \"end_time\": \"2021-01-10T14:59:48.375462Z\", \"created_time\": \"2021-01-10T14:58:44.761053Z\", \"created_time_dt\": \"2021-01-10T14:58:44.761053Z\", \"duration\": \"0:01:03\", \"iteration\": \"18\", \"goal\": \"accuracy_max\", \"run_name\": \"SparseNormalizer, XGBoostClassifier\", \"run_properties\": \"<azureml.automl.runtime.shared.model_wrappers.SparseNormalizer object at 0x7f7c4c4110f0\", \"primary_metric\": 0.7765421, \"best_metric\": 0.79486362}, {\"run_id\": \"AutoML_1a933934-0ea3-4fc1-b8da-5644fb2b70f1_19\", \"run_number\": 24, \"metric\": null, \"status\": \"Completed\", \"run_type\": \"azureml.scriptrun\", \"training_percent\": \"100\", \"start_time\": \"2021-01-10T14:58:59.172325Z\", \"end_time\": \"2021-01-10T14:59:47.203515Z\", \"created_time\": \"2021-01-10T14:58:47.998495Z\", \"created_time_dt\": \"2021-01-10T14:58:47.998495Z\", \"duration\": \"0:00:59\", \"iteration\": \"19\", \"goal\": \"accuracy_max\", \"run_name\": \"SparseNormalizer, XGBoostClassifier\", \"run_properties\": \"<azureml.automl.runtime.shared.model_wrappers.SparseNormalizer object at 0x7f6be4ec7b38\", \"primary_metric\": 0.77769083, \"best_metric\": 0.79486362}, {\"run_id\": \"AutoML_1a933934-0ea3-4fc1-b8da-5644fb2b70f1_20\", \"run_number\": 25, \"metric\": null, \"status\": \"Completed\", \"run_type\": \"azureml.scriptrun\", \"training_percent\": \"100\", \"start_time\": \"2021-01-10T14:59:18.653116Z\", \"end_time\": \"2021-01-10T15:00:04.939065Z\", \"created_time\": \"2021-01-10T14:59:05.938202Z\", \"created_time_dt\": \"2021-01-10T14:59:05.938202Z\", \"duration\": \"0:00:59\", \"iteration\": \"20\", \"goal\": \"accuracy_max\", \"run_name\": \"StandardScalerWrapper, ExtremeRandomTrees\", \"run_properties\": \"<azureml.automl.runtime.shared.model_wrappers.StandardScalerWrapper object at 0x7f01e40454a8\", \"primary_metric\": 0.75065216, \"best_metric\": 0.79486362}, {\"run_id\": \"AutoML_1a933934-0ea3-4fc1-b8da-5644fb2b70f1_21\", \"run_number\": 26, \"metric\": null, \"status\": \"Completed\", \"run_type\": \"azureml.scriptrun\", \"training_percent\": \"100\", \"start_time\": \"2021-01-10T14:59:38.066544Z\", \"end_time\": \"2021-01-10T15:00:26.712739Z\", \"created_time\": \"2021-01-10T14:59:27.385953Z\", \"created_time_dt\": \"2021-01-10T14:59:27.385953Z\", \"duration\": \"0:00:59\", \"iteration\": \"21\", \"goal\": \"accuracy_max\", \"run_name\": \"SparseNormalizer, XGBoostClassifier\", \"run_properties\": \"<azureml.automl.runtime.shared.model_wrappers.SparseNormalizer object at 0x7fde24ab9390\", \"primary_metric\": 0.77586356, \"best_metric\": 0.79486362}, {\"run_id\": \"AutoML_1a933934-0ea3-4fc1-b8da-5644fb2b70f1_22\", \"run_number\": 27, \"metric\": null, \"status\": \"Completed\", \"run_type\": \"azureml.scriptrun\", \"training_percent\": \"100\", \"start_time\": \"2021-01-10T15:00:00.878324Z\", \"end_time\": \"2021-01-10T15:00:43.568864Z\", \"created_time\": \"2021-01-10T14:59:49.398931Z\", \"created_time_dt\": \"2021-01-10T14:59:49.398931Z\", \"duration\": \"0:00:54\", \"iteration\": \"22\", \"goal\": \"accuracy_max\", \"run_name\": \"SparseNormalizer, XGBoostClassifier\", \"run_properties\": \"<azureml.automl.runtime.shared.model_wrappers.SparseNormalizer object at 0x7fb37abcfcf8\", \"primary_metric\": 0.77147944, \"best_metric\": 0.79486362}, {\"run_id\": \"AutoML_1a933934-0ea3-4fc1-b8da-5644fb2b70f1_23\", \"run_number\": 28, \"metric\": null, \"status\": \"Completed\", \"run_type\": \"azureml.scriptrun\", \"training_percent\": \"100\", \"start_time\": \"2021-01-10T15:00:04.243801Z\", \"end_time\": \"2021-01-10T15:00:44.07543Z\", \"created_time\": \"2021-01-10T14:59:53.055896Z\", \"created_time_dt\": \"2021-01-10T14:59:53.055896Z\", \"duration\": \"0:00:51\", \"iteration\": \"23\", \"goal\": \"accuracy_max\", \"run_name\": \"MaxAbsScaler, LightGBM\", \"run_properties\": \"copy=True\", \"primary_metric\": 0.75065216, \"best_metric\": 0.79486362}, {\"run_id\": \"AutoML_1a933934-0ea3-4fc1-b8da-5644fb2b70f1_24\", \"run_number\": 29, \"metric\": null, \"status\": \"Completed\", \"run_type\": \"azureml.scriptrun\", \"training_percent\": \"100\", \"start_time\": \"2021-01-10T15:00:18.018103Z\", \"end_time\": \"2021-01-10T15:01:01.350277Z\", \"created_time\": \"2021-01-10T15:00:06.749767Z\", \"created_time_dt\": \"2021-01-10T15:00:06.749767Z\", \"duration\": \"0:00:54\", \"iteration\": \"24\", \"goal\": \"accuracy_max\", \"run_name\": \"TruncatedSVDWrapper, XGBoostClassifier\", \"run_properties\": \"n_components=0.8015789473684211, random_state=None\", \"primary_metric\": 0.75837757, \"best_metric\": 0.79486362}, {\"run_id\": \"AutoML_1a933934-0ea3-4fc1-b8da-5644fb2b70f1_25\", \"run_number\": 30, \"metric\": null, \"status\": \"Completed\", \"run_type\": \"azureml.scriptrun\", \"training_percent\": \"100\", \"start_time\": \"2021-01-10T15:00:41.673552Z\", \"end_time\": \"2021-01-10T15:01:28.824031Z\", \"created_time\": \"2021-01-10T15:00:29.843175Z\", \"created_time_dt\": \"2021-01-10T15:00:29.843175Z\", \"duration\": \"0:00:58\", \"iteration\": \"25\", \"goal\": \"accuracy_max\", \"run_name\": \"MaxAbsScaler, LightGBM\", \"run_properties\": \"copy=True\", \"primary_metric\": 0.75065216, \"best_metric\": 0.79486362}, {\"run_id\": \"AutoML_1a933934-0ea3-4fc1-b8da-5644fb2b70f1_26\", \"run_number\": 31, \"metric\": null, \"status\": \"Completed\", \"run_type\": \"azureml.scriptrun\", \"training_percent\": \"100\", \"start_time\": \"2021-01-10T15:00:56.613118Z\", \"end_time\": \"2021-01-10T15:01:49.891811Z\", \"created_time\": \"2021-01-10T15:00:45.704663Z\", \"created_time_dt\": \"2021-01-10T15:00:45.704663Z\", \"duration\": \"0:01:04\", \"iteration\": \"26\", \"goal\": \"accuracy_max\", \"run_name\": \"SparseNormalizer, XGBoostClassifier\", \"run_properties\": \"<azureml.automl.runtime.shared.model_wrappers.SparseNormalizer object at 0x7f7cf5cdfa20\", \"primary_metric\": 0.77706407, \"best_metric\": 0.79486362}, {\"run_id\": \"AutoML_1a933934-0ea3-4fc1-b8da-5644fb2b70f1_27\", \"run_number\": 32, \"metric\": null, \"status\": \"Completed\", \"run_type\": \"azureml.scriptrun\", \"training_percent\": \"100\", \"start_time\": \"2021-01-10T15:00:56.674256Z\", \"end_time\": \"2021-01-10T15:01:36.115298Z\", \"created_time\": \"2021-01-10T15:00:45.745149Z\", \"created_time_dt\": \"2021-01-10T15:00:45.745149Z\", \"duration\": \"0:00:50\", \"iteration\": \"27\", \"goal\": \"accuracy_max\", \"run_name\": \"SparseNormalizer, LightGBM\", \"run_properties\": \"<azureml.automl.runtime.shared.model_wrappers.SparseNormalizer object at 0x7f9b7577c470\", \"primary_metric\": 0.77262722, \"best_metric\": 0.79486362}, {\"run_id\": \"AutoML_1a933934-0ea3-4fc1-b8da-5644fb2b70f1_28\", \"run_number\": 33, \"metric\": null, \"status\": \"Completed\", \"run_type\": \"azureml.scriptrun\", \"training_percent\": \"100\", \"start_time\": \"2021-01-10T15:01:14.807243Z\", \"end_time\": \"2021-01-10T15:01:57.922196Z\", \"created_time\": \"2021-01-10T15:01:02.980986Z\", \"created_time_dt\": \"2021-01-10T15:01:02.980986Z\", \"duration\": \"0:00:54\", \"iteration\": \"28\", \"goal\": \"accuracy_max\", \"run_name\": \"StandardScalerWrapper, XGBoostClassifier\", \"run_properties\": \"<azureml.automl.runtime.shared.model_wrappers.StandardScalerWrapper object at 0x7fe4b780eb70\", \"primary_metric\": 0.78139713, \"best_metric\": 0.79486362}, {\"run_id\": \"AutoML_1a933934-0ea3-4fc1-b8da-5644fb2b70f1_29\", \"run_number\": 34, \"metric\": null, \"status\": \"Completed\", \"run_type\": \"azureml.scriptrun\", \"training_percent\": \"100\", \"start_time\": \"2021-01-10T15:01:44.615107Z\", \"end_time\": \"2021-01-10T15:02:24.599158Z\", \"created_time\": \"2021-01-10T15:01:30.522817Z\", \"created_time_dt\": \"2021-01-10T15:01:30.522817Z\", \"duration\": \"0:00:54\", \"iteration\": \"29\", \"goal\": \"accuracy_max\", \"run_name\": \"StandardScalerWrapper, LightGBM\", \"run_properties\": \"<azureml.automl.runtime.shared.model_wrappers.StandardScalerWrapper object at 0x7f95ea6006d8\", \"primary_metric\": 0.7738281, \"best_metric\": 0.79486362}, {\"run_id\": \"AutoML_1a933934-0ea3-4fc1-b8da-5644fb2b70f1_30\", \"run_number\": 35, \"metric\": null, \"status\": \"Completed\", \"run_type\": \"azureml.scriptrun\", \"training_percent\": \"100\", \"start_time\": \"2021-01-10T15:02:00.367857Z\", \"end_time\": \"2021-01-10T15:02:53.806826Z\", \"created_time\": \"2021-01-10T15:01:39.287121Z\", \"created_time_dt\": \"2021-01-10T15:01:39.287121Z\", \"duration\": \"0:01:14\", \"iteration\": \"30\", \"goal\": \"accuracy_max\", \"run_name\": \"StandardScalerWrapper, LightGBM\", \"run_properties\": \"<azureml.automl.runtime.shared.model_wrappers.StandardScalerWrapper object at 0x7fd875829ef0\", \"primary_metric\": 0.75065216, \"best_metric\": 0.79486362}, {\"run_id\": \"AutoML_1a933934-0ea3-4fc1-b8da-5644fb2b70f1_31\", \"run_number\": 36, \"metric\": null, \"status\": \"Completed\", \"run_type\": \"azureml.scriptrun\", \"training_percent\": \"100\", \"start_time\": \"2021-01-10T15:02:04.603092Z\", \"end_time\": \"2021-01-10T15:02:49.91279Z\", \"created_time\": \"2021-01-10T15:01:53.119253Z\", \"created_time_dt\": \"2021-01-10T15:01:53.119253Z\", \"duration\": \"0:00:56\", \"iteration\": \"31\", \"goal\": \"accuracy_max\", \"run_name\": \"SparseNormalizer, XGBoostClassifier\", \"run_properties\": \"<azureml.automl.runtime.shared.model_wrappers.SparseNormalizer object at 0x7fd8c7169048\", \"primary_metric\": 0.77930865, \"best_metric\": 0.79486362}, {\"run_id\": \"AutoML_1a933934-0ea3-4fc1-b8da-5644fb2b70f1_32\", \"run_number\": 37, \"metric\": null, \"status\": \"Completed\", \"run_type\": \"azureml.scriptrun\", \"training_percent\": \"100\", \"start_time\": \"2021-01-10T15:02:10.510984Z\", \"end_time\": \"2021-01-10T15:02:49.399658Z\", \"created_time\": \"2021-01-10T15:01:59.628111Z\", \"created_time_dt\": \"2021-01-10T15:01:59.628111Z\", \"duration\": \"0:00:49\", \"iteration\": \"32\", \"goal\": \"accuracy_max\", \"run_name\": \"MaxAbsScaler, LightGBM\", \"run_properties\": \"copy=True\", \"primary_metric\": 0.78886111, \"best_metric\": 0.79486362}, {\"run_id\": \"AutoML_1a933934-0ea3-4fc1-b8da-5644fb2b70f1_33\", \"run_number\": 38, \"metric\": null, \"status\": \"Canceled\", \"run_type\": \"azureml.scriptrun\", \"training_percent\": \"100\", \"start_time\": \"2021-01-10T15:02:36.987763Z\", \"end_time\": \"2021-01-10T15:03:03.389031Z\", \"created_time\": \"2021-01-10T15:02:26.530371Z\", \"created_time_dt\": \"2021-01-10T15:02:26.530371Z\", \"duration\": \"0:00:36\", \"iteration\": \"33\", \"goal\": null, \"run_name\": \"MaxAbsScaler, ExtremeRandomTrees\", \"run_properties\": null}, {\"run_id\": \"AutoML_1a933934-0ea3-4fc1-b8da-5644fb2b70f1_34\", \"run_number\": 39, \"metric\": null, \"status\": \"Canceled\", \"run_type\": \"azureml.scriptrun\", \"training_percent\": \"100\", \"start_time\": \"2021-01-10T15:02:51.242078Z\", \"end_time\": \"2021-01-10T15:03:08.169285Z\", \"created_time\": \"2021-01-10T15:02:51.242078Z\", \"created_time_dt\": \"2021-01-10T15:02:51.242078Z\", \"duration\": \"0:00:16\", \"iteration\": \"34\", \"goal\": null, \"run_name\": \"Canceled\", \"run_properties\": null}, {\"run_id\": \"AutoML_1a933934-0ea3-4fc1-b8da-5644fb2b70f1_35\", \"run_number\": 40, \"metric\": null, \"status\": \"Canceled\", \"run_type\": \"azureml.scriptrun\", \"training_percent\": \"100\", \"start_time\": \"2021-01-10T15:02:55.241593Z\", \"end_time\": \"2021-01-10T15:03:10.191975Z\", \"created_time\": \"2021-01-10T15:02:55.241593Z\", \"created_time_dt\": \"2021-01-10T15:02:55.241593Z\", \"duration\": \"0:00:14\", \"iteration\": \"35\", \"goal\": null, \"run_name\": \"Canceled\", \"run_properties\": null}, {\"run_id\": \"AutoML_1a933934-0ea3-4fc1-b8da-5644fb2b70f1_36\", \"run_number\": 41, \"metric\": null, \"status\": \"Completed\", \"run_type\": \"azureml.scriptrun\", \"training_percent\": \"100\", \"start_time\": \"2021-01-10T15:03:23.675698Z\", \"end_time\": \"2021-01-10T15:04:54.897007Z\", \"created_time\": \"2021-01-10T15:03:11.278064Z\", \"created_time_dt\": \"2021-01-10T15:03:11.278064Z\", \"duration\": \"0:01:43\", \"iteration\": \"36\", \"goal\": \"accuracy_max\", \"run_name\": \"VotingEnsemble\", \"run_properties\": \"classification_labels=None,\\n                              estimators=[('0',\\n                                           Pipeline(memory=None,\\n                                                    steps=[('maxabsscaler',\\n                                                            MaxAbsScaler(copy=True\", \"primary_metric\": 0.79956188, \"best_metric\": 0.79956188}, {\"run_id\": \"AutoML_1a933934-0ea3-4fc1-b8da-5644fb2b70f1_37\", \"run_number\": 42, \"metric\": null, \"status\": \"Completed\", \"run_type\": \"azureml.scriptrun\", \"training_percent\": \"100\", \"start_time\": \"2021-01-10T15:03:23.303866Z\", \"end_time\": \"2021-01-10T15:05:00.067967Z\", \"created_time\": \"2021-01-10T15:03:11.295985Z\", \"created_time_dt\": \"2021-01-10T15:03:11.295985Z\", \"duration\": \"0:01:48\", \"iteration\": \"37\", \"goal\": \"accuracy_max\", \"run_name\": \"StackEnsemble\", \"run_properties\": \"base_learners=[('0',\\n                                        Pipeline(memory=None,\\n                                                 steps=[('maxabsscaler',\\n                                                         MaxAbsScaler(copy=True\", \"primary_metric\": 0.79303675, \"best_metric\": 0.79956188}], \"children_metrics\": {\"categories\": [0], \"series\": {\"AUC_macro\": [{\"categories\": [\"0\", \"1\", \"2\", \"3\", \"4\", \"5\", \"6\", \"7\", \"8\", \"9\", \"10\", \"11\", \"12\", \"13\", \"14\", \"15\", \"16\", \"17\", \"18\", \"19\", \"20\", \"21\", \"22\", \"23\", \"24\", \"25\", \"26\", \"27\", \"28\", \"29\", \"30\", \"31\", \"32\", \"36\", \"37\"], \"mode\": \"markers\", \"name\": \"AUC_macro\", \"stepped\": false, \"type\": \"scatter\", \"data\": [0.798287312950035, 0.7992396138254673, 0.7897730613545504, 0.7827338036822729, 0.7915598985019343, 0.7758197496229295, 0.7884553617185366, 0.790133526363971, 0.785592389221945, 0.7862992167526783, 0.7919364889143738, 0.7892217391911006, 0.7943517837786208, 0.785061964265155, 0.7736471506281857, 0.7914117874352138, 0.7853803321807984, 0.7944056952210539, 0.7877765779940434, 0.7883172571204801, 0.7834189584138025, 0.7821050300201418, 0.7842420961370085, 0.7899724014733466, 0.75784428261818, 0.7881818145469056, 0.7865279016970164, 0.7857314760030002, 0.7871032696524491, 0.7839943187868387, 0.7792069939932625, 0.7876014733147149, 0.7933633265766886, 0.7967566582154819, 0.8002110986165395]}, {\"categories\": [\"0\", \"1\", \"2\", \"3\", \"4\", \"5\", \"6\", \"7\", \"8\", \"9\", \"10\", \"11\", \"12\", \"13\", \"14\", \"15\", \"16\", \"17\", \"18\", \"19\", \"20\", \"21\", \"22\", \"23\", \"24\", \"25\", \"26\", \"27\", \"28\", \"29\", \"30\", \"31\", \"32\", \"36\", \"37\"], \"mode\": \"lines\", \"name\": \"AUC_macro_max\", \"stepped\": true, \"type\": \"scatter\", \"data\": [0.798287312950035, 0.7992396138254673, 0.7992396138254673, 0.7992396138254673, 0.7992396138254673, 0.7992396138254673, 0.7992396138254673, 0.7992396138254673, 0.7992396138254673, 0.7992396138254673, 0.7992396138254673, 0.7992396138254673, 0.7992396138254673, 0.7992396138254673, 0.7992396138254673, 0.7992396138254673, 0.7992396138254673, 0.7992396138254673, 0.7992396138254673, 0.7992396138254673, 0.7992396138254673, 0.7992396138254673, 0.7992396138254673, 0.7992396138254673, 0.7992396138254673, 0.7992396138254673, 0.7992396138254673, 0.7992396138254673, 0.7992396138254673, 0.7992396138254673, 0.7992396138254673, 0.7992396138254673, 0.7992396138254673, 0.7992396138254673, 0.8002110986165395]}], \"precision_score_weighted\": [{\"categories\": [\"0\", \"1\", \"2\", \"3\", \"4\", \"5\", \"6\", \"7\", \"8\", \"9\", \"10\", \"11\", \"12\", \"13\", \"14\", \"15\", \"16\", \"17\", \"18\", \"19\", \"20\", \"21\", \"22\", \"23\", \"24\", \"25\", \"26\", \"27\", \"28\", \"29\", \"30\", \"31\", \"32\", \"36\", \"37\"], \"mode\": \"markers\", \"name\": \"precision_score_weighted\", \"stepped\": false, \"type\": \"scatter\", \"data\": [0.792885877784264, 0.786938787953472, 0.7504090154117014, 0.7345955763613191, 0.8046161159135797, 0.7875244760150246, 0.7617577286169284, 0.7639671582312242, 0.7655333278424941, 0.7231458392448294, 0.7579347191177405, 0.7657482394713616, 0.7573519204641067, 0.7451934295918219, 0.7359686913594145, 0.7414707388206176, 0.7467938772064209, 0.74823125417483, 0.7608748560217977, 0.757432340221372, 0.5635073887631035, 0.7611165941674539, 0.7470873203299573, 0.5635073887631035, 0.7247397929442684, 0.5635073887631035, 0.7623210225656551, 0.7481074847825633, 0.7639130000397195, 0.7478993896367885, 0.5635073887631035, 0.7642130511927363, 0.7787224991417977, 0.8045938822023457, 0.7895495214026828]}, {\"categories\": [\"0\", \"1\", \"2\", \"3\", \"4\", \"5\", \"6\", \"7\", \"8\", \"9\", \"10\", \"11\", \"12\", \"13\", \"14\", \"15\", \"16\", \"17\", \"18\", \"19\", \"20\", \"21\", \"22\", \"23\", \"24\", \"25\", \"26\", \"27\", \"28\", \"29\", \"30\", \"31\", \"32\", \"36\", \"37\"], \"mode\": \"lines\", \"name\": \"precision_score_weighted_max\", \"stepped\": true, \"type\": \"scatter\", \"data\": [0.792885877784264, 0.792885877784264, 0.792885877784264, 0.792885877784264, 0.8046161159135797, 0.8046161159135797, 0.8046161159135797, 0.8046161159135797, 0.8046161159135797, 0.8046161159135797, 0.8046161159135797, 0.8046161159135797, 0.8046161159135797, 0.8046161159135797, 0.8046161159135797, 0.8046161159135797, 0.8046161159135797, 0.8046161159135797, 0.8046161159135797, 0.8046161159135797, 0.8046161159135797, 0.8046161159135797, 0.8046161159135797, 0.8046161159135797, 0.8046161159135797, 0.8046161159135797, 0.8046161159135797, 0.8046161159135797, 0.8046161159135797, 0.8046161159135797, 0.8046161159135797, 0.8046161159135797, 0.8046161159135797, 0.8046161159135797, 0.8046161159135797]}], \"precision_score_macro\": [{\"categories\": [\"0\", \"1\", \"2\", \"3\", \"4\", \"5\", \"6\", \"7\", \"8\", \"9\", \"10\", \"11\", \"12\", \"13\", \"14\", \"15\", \"16\", \"17\", \"18\", \"19\", \"20\", \"21\", \"22\", \"23\", \"24\", \"25\", \"26\", \"27\", \"28\", \"29\", \"30\", \"31\", \"32\", \"36\", \"37\"], \"mode\": \"markers\", \"name\": \"precision_score_macro\", \"stepped\": false, \"type\": \"scatter\", \"data\": [0.7256822724079728, 0.7219959233021708, 0.7004830532847606, 0.6916905065565266, 0.7036116703884029, 0.6715361817150219, 0.7029163661989379, 0.7027619843007608, 0.6991711646716169, 0.6840482705985449, 0.7027341291227698, 0.7065124426104572, 0.7041111950630583, 0.6920008499661157, 0.6801789381845561, 0.6935930158503936, 0.6931666870382468, 0.6983974758508559, 0.6968778721869742, 0.7003194059446005, 0.3753260812109105, 0.6958808873826345, 0.6892143573224258, 0.3753260812109105, 0.6853717034021642, 0.3753260812109105, 0.6977739421605959, 0.691515840567386, 0.7052006273016547, 0.6973216955443536, 0.3753260812109105, 0.7017086791625127, 0.7162613232781322, 0.7335225661073007, 0.7229886656879791]}, {\"categories\": [\"0\", \"1\", \"2\", \"3\", \"4\", \"5\", \"6\", \"7\", \"8\", \"9\", \"10\", \"11\", \"12\", \"13\", \"14\", \"15\", \"16\", \"17\", \"18\", \"19\", \"20\", \"21\", \"22\", \"23\", \"24\", \"25\", \"26\", \"27\", \"28\", \"29\", \"30\", \"31\", \"32\", \"36\", \"37\"], \"mode\": \"lines\", \"name\": \"precision_score_macro_max\", \"stepped\": true, \"type\": \"scatter\", \"data\": [0.7256822724079728, 0.7256822724079728, 0.7256822724079728, 0.7256822724079728, 0.7256822724079728, 0.7256822724079728, 0.7256822724079728, 0.7256822724079728, 0.7256822724079728, 0.7256822724079728, 0.7256822724079728, 0.7256822724079728, 0.7256822724079728, 0.7256822724079728, 0.7256822724079728, 0.7256822724079728, 0.7256822724079728, 0.7256822724079728, 0.7256822724079728, 0.7256822724079728, 0.7256822724079728, 0.7256822724079728, 0.7256822724079728, 0.7256822724079728, 0.7256822724079728, 0.7256822724079728, 0.7256822724079728, 0.7256822724079728, 0.7256822724079728, 0.7256822724079728, 0.7256822724079728, 0.7256822724079728, 0.7256822724079728, 0.7335225661073007, 0.7335225661073007]}], \"AUC_micro\": [{\"categories\": [\"0\", \"1\", \"2\", \"3\", \"4\", \"5\", \"6\", \"7\", \"8\", \"9\", \"10\", \"11\", \"12\", \"13\", \"14\", \"15\", \"16\", \"17\", \"18\", \"19\", \"20\", \"21\", \"22\", \"23\", \"24\", \"25\", \"26\", \"27\", \"28\", \"29\", \"30\", \"31\", \"32\", \"36\", \"37\"], \"mode\": \"markers\", \"name\": \"AUC_micro\", \"stepped\": false, \"type\": \"scatter\", \"data\": [0.8752653624154678, 0.875150669033095, 0.8632446154845079, 0.8583322107406227, 0.7962885420626928, 0.7768844417390764, 0.8655680850079207, 0.8669973261265961, 0.8645104354269957, 0.8584274034374696, 0.8677776421698308, 0.867900433469418, 0.8672379359534478, 0.8611529354698071, 0.8566047735332643, 0.8628259558329768, 0.861287239276875, 0.8655910535878976, 0.86530289117335, 0.8652558942524207, 0.8567323915855601, 0.8628477924208833, 0.8620650154901981, 0.8591803265549067, 0.847822218435818, 0.858518536846438, 0.8648438729868106, 0.8633395933449698, 0.8640900320309779, 0.8610309937305143, 0.8551483331466141, 0.8657355182711324, 0.8712456677357239, 0.8722410266639775, 0.8761535330637585]}, {\"categories\": [\"0\", \"1\", \"2\", \"3\", \"4\", \"5\", \"6\", \"7\", \"8\", \"9\", \"10\", \"11\", \"12\", \"13\", \"14\", \"15\", \"16\", \"17\", \"18\", \"19\", \"20\", \"21\", \"22\", \"23\", \"24\", \"25\", \"26\", \"27\", \"28\", \"29\", \"30\", \"31\", \"32\", \"36\", \"37\"], \"mode\": \"lines\", \"name\": \"AUC_micro_max\", \"stepped\": true, \"type\": \"scatter\", \"data\": [0.8752653624154678, 0.8752653624154678, 0.8752653624154678, 0.8752653624154678, 0.8752653624154678, 0.8752653624154678, 0.8752653624154678, 0.8752653624154678, 0.8752653624154678, 0.8752653624154678, 0.8752653624154678, 0.8752653624154678, 0.8752653624154678, 0.8752653624154678, 0.8752653624154678, 0.8752653624154678, 0.8752653624154678, 0.8752653624154678, 0.8752653624154678, 0.8752653624154678, 0.8752653624154678, 0.8752653624154678, 0.8752653624154678, 0.8752653624154678, 0.8752653624154678, 0.8752653624154678, 0.8752653624154678, 0.8752653624154678, 0.8752653624154678, 0.8752653624154678, 0.8752653624154678, 0.8752653624154678, 0.8752653624154678, 0.8752653624154678, 0.8761535330637585]}], \"norm_macro_recall\": [{\"categories\": [\"0\", \"1\", \"2\", \"3\", \"4\", \"5\", \"6\", \"7\", \"8\", \"9\", \"10\", \"11\", \"12\", \"13\", \"14\", \"15\", \"16\", \"17\", \"18\", \"19\", \"20\", \"21\", \"22\", \"23\", \"24\", \"25\", \"26\", \"27\", \"28\", \"29\", \"30\", \"31\", \"32\", \"36\", \"37\"], \"mode\": \"markers\", \"name\": \"norm_macro_recall\", \"stepped\": false, \"type\": \"scatter\", \"data\": [0.44165659423377923, 0.41618417740187647, 0.23032314723557076, 0.1300956965021781, 0.5118875101925924, 0.45102402609460057, 0.3074696708852965, 0.32342343029731985, 0.34406051562999457, 0.05906850061442328, 0.2807474432969547, 0.3242143019681415, 0.27190758416267297, 0.22178287795622045, 0.1929032833134722, 0.18402303614247092, 0.2301029554874693, 0.2215277778920702, 0.3204855805802076, 0.2849673738082592, 0.0, 0.3251302386244851, 0.24674136069532143, 0.0, 0.06865579685176929, 0.0, 0.32737663005453416, 0.2464338316873303, 0.31561568117994665, 0.22355048236371436, 0.0, 0.3279741036713387, 0.38116644749741607, 0.4877490845644643, 0.42882587174983644]}, {\"categories\": [\"0\", \"1\", \"2\", \"3\", \"4\", \"5\", \"6\", \"7\", \"8\", \"9\", \"10\", \"11\", \"12\", \"13\", \"14\", \"15\", \"16\", \"17\", \"18\", \"19\", \"20\", \"21\", \"22\", \"23\", \"24\", \"25\", \"26\", \"27\", \"28\", \"29\", \"30\", \"31\", \"32\", \"36\", \"37\"], \"mode\": \"lines\", \"name\": \"norm_macro_recall_max\", \"stepped\": true, \"type\": \"scatter\", \"data\": [0.44165659423377923, 0.44165659423377923, 0.44165659423377923, 0.44165659423377923, 0.5118875101925924, 0.5118875101925924, 0.5118875101925924, 0.5118875101925924, 0.5118875101925924, 0.5118875101925924, 0.5118875101925924, 0.5118875101925924, 0.5118875101925924, 0.5118875101925924, 0.5118875101925924, 0.5118875101925924, 0.5118875101925924, 0.5118875101925924, 0.5118875101925924, 0.5118875101925924, 0.5118875101925924, 0.5118875101925924, 0.5118875101925924, 0.5118875101925924, 0.5118875101925924, 0.5118875101925924, 0.5118875101925924, 0.5118875101925924, 0.5118875101925924, 0.5118875101925924, 0.5118875101925924, 0.5118875101925924, 0.5118875101925924, 0.5118875101925924, 0.5118875101925924]}], \"recall_score_weighted\": [{\"categories\": [\"0\", \"1\", \"2\", \"3\", \"4\", \"5\", \"6\", \"7\", \"8\", \"9\", \"10\", \"11\", \"12\", \"13\", \"14\", \"15\", \"16\", \"17\", \"18\", \"19\", \"20\", \"21\", \"22\", \"23\", \"24\", \"25\", \"26\", \"27\", \"28\", \"29\", \"30\", \"31\", \"32\", \"36\", \"37\"], \"mode\": \"markers\", \"name\": \"recall_score_weighted\", \"stepped\": false, \"type\": \"scatter\", \"data\": [0.79486362489503, 0.7925670649666576, 0.7748196233452076, 0.7649021361282451, 0.7522705115776199, 0.6962623613865352, 0.7796220155429092, 0.7800916215316323, 0.7776385807681431, 0.7567590974409948, 0.7788914764673859, 0.7823366705739192, 0.7792045335029201, 0.771896758615165, 0.7661024310522497, 0.7694433500140868, 0.7727318316840586, 0.7742454833631145, 0.7765420977859447, 0.7776908273294064, 0.750652162421821, 0.7758635600466255, 0.7714794400585488, 0.750652162421821, 0.7583775692093236, 0.750652162421821, 0.7770640729484608, 0.772627215949002, 0.7813971316297276, 0.7738280966884263, 0.750652162421821, 0.7793086451642435, 0.7888611148803111, 0.7995618781841793, 0.793036752697067]}, {\"categories\": [\"0\", \"1\", \"2\", \"3\", \"4\", \"5\", \"6\", \"7\", \"8\", \"9\", \"10\", \"11\", \"12\", \"13\", \"14\", \"15\", \"16\", \"17\", \"18\", \"19\", \"20\", \"21\", \"22\", \"23\", \"24\", \"25\", \"26\", \"27\", \"28\", \"29\", \"30\", \"31\", \"32\", \"36\", \"37\"], \"mode\": \"lines\", \"name\": \"recall_score_weighted_max\", \"stepped\": true, \"type\": \"scatter\", \"data\": [0.79486362489503, 0.79486362489503, 0.79486362489503, 0.79486362489503, 0.79486362489503, 0.79486362489503, 0.79486362489503, 0.79486362489503, 0.79486362489503, 0.79486362489503, 0.79486362489503, 0.79486362489503, 0.79486362489503, 0.79486362489503, 0.79486362489503, 0.79486362489503, 0.79486362489503, 0.79486362489503, 0.79486362489503, 0.79486362489503, 0.79486362489503, 0.79486362489503, 0.79486362489503, 0.79486362489503, 0.79486362489503, 0.79486362489503, 0.79486362489503, 0.79486362489503, 0.79486362489503, 0.79486362489503, 0.79486362489503, 0.79486362489503, 0.79486362489503, 0.7995618781841793, 0.7995618781841793]}], \"accuracy\": [{\"categories\": [\"0\", \"1\", \"2\", \"3\", \"4\", \"5\", \"6\", \"7\", \"8\", \"9\", \"10\", \"11\", \"12\", \"13\", \"14\", \"15\", \"16\", \"17\", \"18\", \"19\", \"20\", \"21\", \"22\", \"23\", \"24\", \"25\", \"26\", \"27\", \"28\", \"29\", \"30\", \"31\", \"32\", \"36\", \"37\"], \"mode\": \"markers\", \"name\": \"accuracy\", \"stepped\": false, \"type\": \"scatter\", \"data\": [0.79486362489503, 0.7925670649666576, 0.7748196233452076, 0.7649021361282451, 0.7522705115776199, 0.6962623613865352, 0.7796220155429092, 0.7800916215316323, 0.7776385807681431, 0.7567590974409948, 0.7788914764673859, 0.7823366705739192, 0.7792045335029201, 0.771896758615165, 0.7661024310522497, 0.7694433500140868, 0.7727318316840586, 0.7742454833631145, 0.7765420977859447, 0.7776908273294064, 0.750652162421821, 0.7758635600466255, 0.7714794400585488, 0.750652162421821, 0.7583775692093236, 0.750652162421821, 0.7770640729484608, 0.772627215949002, 0.7813971316297276, 0.7738280966884263, 0.750652162421821, 0.7793086451642435, 0.7888611148803111, 0.7995618781841793, 0.793036752697067]}, {\"categories\": [\"0\", \"1\", \"2\", \"3\", \"4\", \"5\", \"6\", \"7\", \"8\", \"9\", \"10\", \"11\", \"12\", \"13\", \"14\", \"15\", \"16\", \"17\", \"18\", \"19\", \"20\", \"21\", \"22\", \"23\", \"24\", \"25\", \"26\", \"27\", \"28\", \"29\", \"30\", \"31\", \"32\", \"36\", \"37\"], \"mode\": \"lines\", \"name\": \"accuracy_max\", \"stepped\": true, \"type\": \"scatter\", \"data\": [0.79486362489503, 0.79486362489503, 0.79486362489503, 0.79486362489503, 0.79486362489503, 0.79486362489503, 0.79486362489503, 0.79486362489503, 0.79486362489503, 0.79486362489503, 0.79486362489503, 0.79486362489503, 0.79486362489503, 0.79486362489503, 0.79486362489503, 0.79486362489503, 0.79486362489503, 0.79486362489503, 0.79486362489503, 0.79486362489503, 0.79486362489503, 0.79486362489503, 0.79486362489503, 0.79486362489503, 0.79486362489503, 0.79486362489503, 0.79486362489503, 0.79486362489503, 0.79486362489503, 0.79486362489503, 0.79486362489503, 0.79486362489503, 0.79486362489503, 0.7995618781841793, 0.7995618781841793]}], \"average_precision_score_weighted\": [{\"categories\": [\"0\", \"1\", \"2\", \"3\", \"4\", \"5\", \"6\", \"7\", \"8\", \"9\", \"10\", \"11\", \"12\", \"13\", \"14\", \"15\", \"16\", \"17\", \"18\", \"19\", \"20\", \"21\", \"22\", \"23\", \"24\", \"25\", \"26\", \"27\", \"28\", \"29\", \"30\", \"31\", \"32\", \"36\", \"37\"], \"mode\": \"markers\", \"name\": \"average_precision_score_weighted\", \"stepped\": false, \"type\": \"scatter\", \"data\": [0.8132167132027867, 0.8126028006443814, 0.8071422824732857, 0.8045851199979264, 0.8092009447575471, 0.7986491931017169, 0.8060365478775324, 0.8070284260764036, 0.8028353069797103, 0.8063402379136893, 0.8093393354090406, 0.8010564239580278, 0.8112858009938316, 0.8033647259662242, 0.7982544896572014, 0.8085601684286386, 0.8033455364299973, 0.811287814286134, 0.8049058386943784, 0.8062567807679033, 0.8039202933350493, 0.8010654189954629, 0.8025671342564644, 0.8062448191582281, 0.7886989889981885, 0.8055856941420922, 0.8054879180612448, 0.8056085445805922, 0.8052582088580387, 0.8042572472787253, 0.802928052550973, 0.8046795112552163, 0.8087571113507958, 0.8124026466063021, 0.8150763578920046]}, {\"categories\": [\"0\", \"1\", \"2\", \"3\", \"4\", \"5\", \"6\", \"7\", \"8\", \"9\", \"10\", \"11\", \"12\", \"13\", \"14\", \"15\", \"16\", \"17\", \"18\", \"19\", \"20\", \"21\", \"22\", \"23\", \"24\", \"25\", \"26\", \"27\", \"28\", \"29\", \"30\", \"31\", \"32\", \"36\", \"37\"], \"mode\": \"lines\", \"name\": \"average_precision_score_weighted_max\", \"stepped\": true, \"type\": \"scatter\", \"data\": [0.8132167132027867, 0.8132167132027867, 0.8132167132027867, 0.8132167132027867, 0.8132167132027867, 0.8132167132027867, 0.8132167132027867, 0.8132167132027867, 0.8132167132027867, 0.8132167132027867, 0.8132167132027867, 0.8132167132027867, 0.8132167132027867, 0.8132167132027867, 0.8132167132027867, 0.8132167132027867, 0.8132167132027867, 0.8132167132027867, 0.8132167132027867, 0.8132167132027867, 0.8132167132027867, 0.8132167132027867, 0.8132167132027867, 0.8132167132027867, 0.8132167132027867, 0.8132167132027867, 0.8132167132027867, 0.8132167132027867, 0.8132167132027867, 0.8132167132027867, 0.8132167132027867, 0.8132167132027867, 0.8132167132027867, 0.8132167132027867, 0.8150763578920046]}], \"recall_score_macro\": [{\"categories\": [\"0\", \"1\", \"2\", \"3\", \"4\", \"5\", \"6\", \"7\", \"8\", \"9\", \"10\", \"11\", \"12\", \"13\", \"14\", \"15\", \"16\", \"17\", \"18\", \"19\", \"20\", \"21\", \"22\", \"23\", \"24\", \"25\", \"26\", \"27\", \"28\", \"29\", \"30\", \"31\", \"32\", \"36\", \"37\"], \"mode\": \"markers\", \"name\": \"recall_score_macro\", \"stepped\": false, \"type\": \"scatter\", \"data\": [0.7208282971168896, 0.7080920887009382, 0.6151615736177853, 0.565047848251089, 0.7559437550962962, 0.7255120130473003, 0.6537348354426482, 0.66171171514866, 0.6720302578149973, 0.5295342503072117, 0.6403737216484774, 0.6621071509840707, 0.6359537920813365, 0.6108914389781102, 0.5964516416567361, 0.5920115180712354, 0.6150514777437347, 0.6107638889460351, 0.6602427902901038, 0.6424836869041296, 0.5, 0.6625651193122426, 0.6233706803476607, 0.5, 0.5343278984258846, 0.5, 0.663688315027267, 0.6232169158436651, 0.6578078405899733, 0.6117752411818571, 0.5, 0.6639870518356693, 0.690583223748708, 0.7438745422822322, 0.7144129358749183]}, {\"categories\": [\"0\", \"1\", \"2\", \"3\", \"4\", \"5\", \"6\", \"7\", \"8\", \"9\", \"10\", \"11\", \"12\", \"13\", \"14\", \"15\", \"16\", \"17\", \"18\", \"19\", \"20\", \"21\", \"22\", \"23\", \"24\", \"25\", \"26\", \"27\", \"28\", \"29\", \"30\", \"31\", \"32\", \"36\", \"37\"], \"mode\": \"lines\", \"name\": \"recall_score_macro_max\", \"stepped\": true, \"type\": \"scatter\", \"data\": [0.7208282971168896, 0.7208282971168896, 0.7208282971168896, 0.7208282971168896, 0.7559437550962962, 0.7559437550962962, 0.7559437550962962, 0.7559437550962962, 0.7559437550962962, 0.7559437550962962, 0.7559437550962962, 0.7559437550962962, 0.7559437550962962, 0.7559437550962962, 0.7559437550962962, 0.7559437550962962, 0.7559437550962962, 0.7559437550962962, 0.7559437550962962, 0.7559437550962962, 0.7559437550962962, 0.7559437550962962, 0.7559437550962962, 0.7559437550962962, 0.7559437550962962, 0.7559437550962962, 0.7559437550962962, 0.7559437550962962, 0.7559437550962962, 0.7559437550962962, 0.7559437550962962, 0.7559437550962962, 0.7559437550962962, 0.7559437550962962, 0.7559437550962962]}], \"precision_score_micro\": [{\"categories\": [\"0\", \"1\", \"2\", \"3\", \"4\", \"5\", \"6\", \"7\", \"8\", \"9\", \"10\", \"11\", \"12\", \"13\", \"14\", \"15\", \"16\", \"17\", \"18\", \"19\", \"20\", \"21\", \"22\", \"23\", \"24\", \"25\", \"26\", \"27\", \"28\", \"29\", \"30\", \"31\", \"32\", \"36\", \"37\"], \"mode\": \"markers\", \"name\": \"precision_score_micro\", \"stepped\": false, \"type\": \"scatter\", \"data\": [0.79486362489503, 0.7925670649666576, 0.7748196233452076, 0.7649021361282451, 0.7522705115776199, 0.6962623613865352, 0.7796220155429092, 0.7800916215316323, 0.7776385807681431, 0.7567590974409948, 0.7788914764673859, 0.7823366705739192, 0.7792045335029201, 0.771896758615165, 0.7661024310522497, 0.7694433500140868, 0.7727318316840586, 0.7742454833631145, 0.7765420977859447, 0.7776908273294064, 0.750652162421821, 0.7758635600466255, 0.7714794400585488, 0.750652162421821, 0.7583775692093236, 0.750652162421821, 0.7770640729484608, 0.772627215949002, 0.7813971316297276, 0.7738280966884263, 0.750652162421821, 0.7793086451642435, 0.7888611148803111, 0.7995618781841793, 0.793036752697067]}, {\"categories\": [\"0\", \"1\", \"2\", \"3\", \"4\", \"5\", \"6\", \"7\", \"8\", \"9\", \"10\", \"11\", \"12\", \"13\", \"14\", \"15\", \"16\", \"17\", \"18\", \"19\", \"20\", \"21\", \"22\", \"23\", \"24\", \"25\", \"26\", \"27\", \"28\", \"29\", \"30\", \"31\", \"32\", \"36\", \"37\"], \"mode\": \"lines\", \"name\": \"precision_score_micro_max\", \"stepped\": true, \"type\": \"scatter\", \"data\": [0.79486362489503, 0.79486362489503, 0.79486362489503, 0.79486362489503, 0.79486362489503, 0.79486362489503, 0.79486362489503, 0.79486362489503, 0.79486362489503, 0.79486362489503, 0.79486362489503, 0.79486362489503, 0.79486362489503, 0.79486362489503, 0.79486362489503, 0.79486362489503, 0.79486362489503, 0.79486362489503, 0.79486362489503, 0.79486362489503, 0.79486362489503, 0.79486362489503, 0.79486362489503, 0.79486362489503, 0.79486362489503, 0.79486362489503, 0.79486362489503, 0.79486362489503, 0.79486362489503, 0.79486362489503, 0.79486362489503, 0.79486362489503, 0.79486362489503, 0.7995618781841793, 0.7995618781841793]}], \"f1_score_weighted\": [{\"categories\": [\"0\", \"1\", \"2\", \"3\", \"4\", \"5\", \"6\", \"7\", \"8\", \"9\", \"10\", \"11\", \"12\", \"13\", \"14\", \"15\", \"16\", \"17\", \"18\", \"19\", \"20\", \"21\", \"22\", \"23\", \"24\", \"25\", \"26\", \"27\", \"28\", \"29\", \"30\", \"31\", \"32\", \"36\", \"37\"], \"mode\": \"markers\", \"name\": \"f1_score_weighted\", \"stepped\": false, \"type\": \"scatter\", \"data\": [0.7937249669514224, 0.7891752625784688, 0.7451260380639566, 0.709393461089607, 0.766106248098739, 0.7161451333150582, 0.7644945374050225, 0.7677296146921866, 0.769572019002285, 0.677797272978872, 0.7591664250549954, 0.76928695402713, 0.7574394703071224, 0.7420790346068442, 0.7315170627175475, 0.7299886305348011, 0.7445490675452988, 0.7428541771639595, 0.7651275740703818, 0.7591664526351852, 0.6437464058813542, 0.7654581478855885, 0.7478307152109512, 0.6437464058813542, 0.6829643459681145, 0.6437464058813542, 0.7665157709196896, 0.7481653213449738, 0.7672037714043836, 0.7434078341964642, 0.6437464058813542, 0.767777064704318, 0.7821882691343129, 0.8017565386661442, 0.7909928532163836]}, {\"categories\": [\"0\", \"1\", \"2\", \"3\", \"4\", \"5\", \"6\", \"7\", \"8\", \"9\", \"10\", \"11\", \"12\", \"13\", \"14\", \"15\", \"16\", \"17\", \"18\", \"19\", \"20\", \"21\", \"22\", \"23\", \"24\", \"25\", \"26\", \"27\", \"28\", \"29\", \"30\", \"31\", \"32\", \"36\", \"37\"], \"mode\": \"lines\", \"name\": \"f1_score_weighted_max\", \"stepped\": true, \"type\": \"scatter\", \"data\": [0.7937249669514224, 0.7937249669514224, 0.7937249669514224, 0.7937249669514224, 0.7937249669514224, 0.7937249669514224, 0.7937249669514224, 0.7937249669514224, 0.7937249669514224, 0.7937249669514224, 0.7937249669514224, 0.7937249669514224, 0.7937249669514224, 0.7937249669514224, 0.7937249669514224, 0.7937249669514224, 0.7937249669514224, 0.7937249669514224, 0.7937249669514224, 0.7937249669514224, 0.7937249669514224, 0.7937249669514224, 0.7937249669514224, 0.7937249669514224, 0.7937249669514224, 0.7937249669514224, 0.7937249669514224, 0.7937249669514224, 0.7937249669514224, 0.7937249669514224, 0.7937249669514224, 0.7937249669514224, 0.7937249669514224, 0.8017565386661442, 0.8017565386661442]}], \"average_precision_score_macro\": [{\"categories\": [\"0\", \"1\", \"2\", \"3\", \"4\", \"5\", \"6\", \"7\", \"8\", \"9\", \"10\", \"11\", \"12\", \"13\", \"14\", \"15\", \"16\", \"17\", \"18\", \"19\", \"20\", \"21\", \"22\", \"23\", \"24\", \"25\", \"26\", \"27\", \"28\", \"29\", \"30\", \"31\", \"32\", \"36\", \"37\"], \"mode\": \"markers\", \"name\": \"average_precision_score_macro\", \"stepped\": false, \"type\": \"scatter\", \"data\": [0.7225614220838033, 0.722374037501532, 0.7137184629186262, 0.7104347126891318, 0.7178526244336336, 0.7026362545656525, 0.7109817044375988, 0.7135247339759699, 0.707501500834433, 0.7135647842652155, 0.7171706016310295, 0.7053558322860214, 0.7203340861607417, 0.7095065721672702, 0.7012366265509511, 0.7166737940175067, 0.7096649291885768, 0.7205507502319568, 0.7089167357192043, 0.7130367934092218, 0.7088579758326127, 0.7053812434429447, 0.7068063190553573, 0.7117048841592883, 0.6871544672599053, 0.7123059884504018, 0.7109273078812002, 0.7116012559797522, 0.7131322554692392, 0.7101564529962443, 0.7088069955281174, 0.709262115880614, 0.7173607701260624, 0.7215168181730871, 0.7252373258703342]}, {\"categories\": [\"0\", \"1\", \"2\", \"3\", \"4\", \"5\", \"6\", \"7\", \"8\", \"9\", \"10\", \"11\", \"12\", \"13\", \"14\", \"15\", \"16\", \"17\", \"18\", \"19\", \"20\", \"21\", \"22\", \"23\", \"24\", \"25\", \"26\", \"27\", \"28\", \"29\", \"30\", \"31\", \"32\", \"36\", \"37\"], \"mode\": \"lines\", \"name\": \"average_precision_score_macro_max\", \"stepped\": true, \"type\": \"scatter\", \"data\": [0.7225614220838033, 0.7225614220838033, 0.7225614220838033, 0.7225614220838033, 0.7225614220838033, 0.7225614220838033, 0.7225614220838033, 0.7225614220838033, 0.7225614220838033, 0.7225614220838033, 0.7225614220838033, 0.7225614220838033, 0.7225614220838033, 0.7225614220838033, 0.7225614220838033, 0.7225614220838033, 0.7225614220838033, 0.7225614220838033, 0.7225614220838033, 0.7225614220838033, 0.7225614220838033, 0.7225614220838033, 0.7225614220838033, 0.7225614220838033, 0.7225614220838033, 0.7225614220838033, 0.7225614220838033, 0.7225614220838033, 0.7225614220838033, 0.7225614220838033, 0.7225614220838033, 0.7225614220838033, 0.7225614220838033, 0.7225614220838033, 0.7252373258703342]}], \"average_precision_score_micro\": [{\"categories\": [\"0\", \"1\", \"2\", \"3\", \"4\", \"5\", \"6\", \"7\", \"8\", \"9\", \"10\", \"11\", \"12\", \"13\", \"14\", \"15\", \"16\", \"17\", \"18\", \"19\", \"20\", \"21\", \"22\", \"23\", \"24\", \"25\", \"26\", \"27\", \"28\", \"29\", \"30\", \"31\", \"32\", \"36\", \"37\"], \"mode\": \"markers\", \"name\": \"average_precision_score_micro\", \"stepped\": false, \"type\": \"scatter\", \"data\": [0.8623005833152007, 0.8613124961430298, 0.8518929431041993, 0.8480756738014443, 0.7692682290461884, 0.7662588198896119, 0.8543396355163413, 0.8547583911951915, 0.8518573486937713, 0.8478264455773987, 0.8558417892063372, 0.8500061081519592, 0.8555241584839596, 0.8481091941901127, 0.8459121819056215, 0.8512420006747407, 0.8478695930216876, 0.8540500099732402, 0.8540567741895065, 0.8529895873493268, 0.8468273381718759, 0.8502794543179488, 0.8501394460669429, 0.8484691543514792, 0.8383165572901483, 0.8469381345522502, 0.8533813656191376, 0.8520804742866479, 0.8501441761318128, 0.8496696503613455, 0.8451311713455902, 0.8537763082273205, 0.8574097576589456, 0.8595430652077288, 0.8634828290113046]}, {\"categories\": [\"0\", \"1\", \"2\", \"3\", \"4\", \"5\", \"6\", \"7\", \"8\", \"9\", \"10\", \"11\", \"12\", \"13\", \"14\", \"15\", \"16\", \"17\", \"18\", \"19\", \"20\", \"21\", \"22\", \"23\", \"24\", \"25\", \"26\", \"27\", \"28\", \"29\", \"30\", \"31\", \"32\", \"36\", \"37\"], \"mode\": \"lines\", \"name\": \"average_precision_score_micro_max\", \"stepped\": true, \"type\": \"scatter\", \"data\": [0.8623005833152007, 0.8623005833152007, 0.8623005833152007, 0.8623005833152007, 0.8623005833152007, 0.8623005833152007, 0.8623005833152007, 0.8623005833152007, 0.8623005833152007, 0.8623005833152007, 0.8623005833152007, 0.8623005833152007, 0.8623005833152007, 0.8623005833152007, 0.8623005833152007, 0.8623005833152007, 0.8623005833152007, 0.8623005833152007, 0.8623005833152007, 0.8623005833152007, 0.8623005833152007, 0.8623005833152007, 0.8623005833152007, 0.8623005833152007, 0.8623005833152007, 0.8623005833152007, 0.8623005833152007, 0.8623005833152007, 0.8623005833152007, 0.8623005833152007, 0.8623005833152007, 0.8623005833152007, 0.8623005833152007, 0.8623005833152007, 0.8634828290113046]}], \"recall_score_micro\": [{\"categories\": [\"0\", \"1\", \"2\", \"3\", \"4\", \"5\", \"6\", \"7\", \"8\", \"9\", \"10\", \"11\", \"12\", \"13\", \"14\", \"15\", \"16\", \"17\", \"18\", \"19\", \"20\", \"21\", \"22\", \"23\", \"24\", \"25\", \"26\", \"27\", \"28\", \"29\", \"30\", \"31\", \"32\", \"36\", \"37\"], \"mode\": \"markers\", \"name\": \"recall_score_micro\", \"stepped\": false, \"type\": \"scatter\", \"data\": [0.79486362489503, 0.7925670649666576, 0.7748196233452076, 0.7649021361282451, 0.7522705115776199, 0.6962623613865352, 0.7796220155429092, 0.7800916215316323, 0.7776385807681431, 0.7567590974409948, 0.7788914764673859, 0.7823366705739192, 0.7792045335029201, 0.771896758615165, 0.7661024310522497, 0.7694433500140868, 0.7727318316840586, 0.7742454833631145, 0.7765420977859447, 0.7776908273294064, 0.750652162421821, 0.7758635600466255, 0.7714794400585488, 0.750652162421821, 0.7583775692093236, 0.750652162421821, 0.7770640729484608, 0.772627215949002, 0.7813971316297276, 0.7738280966884263, 0.750652162421821, 0.7793086451642435, 0.7888611148803111, 0.7995618781841793, 0.793036752697067]}, {\"categories\": [\"0\", \"1\", \"2\", \"3\", \"4\", \"5\", \"6\", \"7\", \"8\", \"9\", \"10\", \"11\", \"12\", \"13\", \"14\", \"15\", \"16\", \"17\", \"18\", \"19\", \"20\", \"21\", \"22\", \"23\", \"24\", \"25\", \"26\", \"27\", \"28\", \"29\", \"30\", \"31\", \"32\", \"36\", \"37\"], \"mode\": \"lines\", \"name\": \"recall_score_micro_max\", \"stepped\": true, \"type\": \"scatter\", \"data\": [0.79486362489503, 0.79486362489503, 0.79486362489503, 0.79486362489503, 0.79486362489503, 0.79486362489503, 0.79486362489503, 0.79486362489503, 0.79486362489503, 0.79486362489503, 0.79486362489503, 0.79486362489503, 0.79486362489503, 0.79486362489503, 0.79486362489503, 0.79486362489503, 0.79486362489503, 0.79486362489503, 0.79486362489503, 0.79486362489503, 0.79486362489503, 0.79486362489503, 0.79486362489503, 0.79486362489503, 0.79486362489503, 0.79486362489503, 0.79486362489503, 0.79486362489503, 0.79486362489503, 0.79486362489503, 0.79486362489503, 0.79486362489503, 0.79486362489503, 0.7995618781841793, 0.7995618781841793]}], \"AUC_weighted\": [{\"categories\": [\"0\", \"1\", \"2\", \"3\", \"4\", \"5\", \"6\", \"7\", \"8\", \"9\", \"10\", \"11\", \"12\", \"13\", \"14\", \"15\", \"16\", \"17\", \"18\", \"19\", \"20\", \"21\", \"22\", \"23\", \"24\", \"25\", \"26\", \"27\", \"28\", \"29\", \"30\", \"31\", \"32\", \"36\", \"37\"], \"mode\": \"markers\", \"name\": \"AUC_weighted\", \"stepped\": false, \"type\": \"scatter\", \"data\": [0.798287312950035, 0.7992396138254672, 0.7897730613545504, 0.7827338036822729, 0.7915598985019343, 0.7758197496229294, 0.7884553528260284, 0.7901335446357972, 0.7855923711851698, 0.7862992167526783, 0.7919364889143738, 0.7892217391911006, 0.7943517837786208, 0.785061964265155, 0.7736471506281857, 0.7914117874352138, 0.7853803321807984, 0.7944056952210539, 0.7877765871216025, 0.7883172571204803, 0.7834189584138026, 0.7821050397389645, 0.7842420961370085, 0.7899724014733466, 0.7578443020558256, 0.7881818145469057, 0.7865278838143108, 0.7857314760030002, 0.7871032696524491, 0.7839943187868387, 0.7792069939932624, 0.7876014733147149, 0.7933633265766886, 0.7967566582154819, 0.8002110986165396]}, {\"categories\": [\"0\", \"1\", \"2\", \"3\", \"4\", \"5\", \"6\", \"7\", \"8\", \"9\", \"10\", \"11\", \"12\", \"13\", \"14\", \"15\", \"16\", \"17\", \"18\", \"19\", \"20\", \"21\", \"22\", \"23\", \"24\", \"25\", \"26\", \"27\", \"28\", \"29\", \"30\", \"31\", \"32\", \"36\", \"37\"], \"mode\": \"lines\", \"name\": \"AUC_weighted_max\", \"stepped\": true, \"type\": \"scatter\", \"data\": [0.798287312950035, 0.7992396138254672, 0.7992396138254672, 0.7992396138254672, 0.7992396138254672, 0.7992396138254672, 0.7992396138254672, 0.7992396138254672, 0.7992396138254672, 0.7992396138254672, 0.7992396138254672, 0.7992396138254672, 0.7992396138254672, 0.7992396138254672, 0.7992396138254672, 0.7992396138254672, 0.7992396138254672, 0.7992396138254672, 0.7992396138254672, 0.7992396138254672, 0.7992396138254672, 0.7992396138254672, 0.7992396138254672, 0.7992396138254672, 0.7992396138254672, 0.7992396138254672, 0.7992396138254672, 0.7992396138254672, 0.7992396138254672, 0.7992396138254672, 0.7992396138254672, 0.7992396138254672, 0.7992396138254672, 0.7992396138254672, 0.8002110986165396]}], \"f1_score_micro\": [{\"categories\": [\"0\", \"1\", \"2\", \"3\", \"4\", \"5\", \"6\", \"7\", \"8\", \"9\", \"10\", \"11\", \"12\", \"13\", \"14\", \"15\", \"16\", \"17\", \"18\", \"19\", \"20\", \"21\", \"22\", \"23\", \"24\", \"25\", \"26\", \"27\", \"28\", \"29\", \"30\", \"31\", \"32\", \"36\", \"37\"], \"mode\": \"markers\", \"name\": \"f1_score_micro\", \"stepped\": false, \"type\": \"scatter\", \"data\": [0.79486362489503, 0.7925670649666575, 0.7748196233452076, 0.7649021361282451, 0.7522705115776199, 0.6962623613865352, 0.7796220155429092, 0.7800916215316323, 0.7776385807681431, 0.7567590974409948, 0.7788914764673859, 0.7823366705739192, 0.7792045335029201, 0.771896758615165, 0.7661024310522497, 0.7694433500140868, 0.7727318316840586, 0.7742454833631145, 0.7765420977859447, 0.7776908273294064, 0.750652162421821, 0.7758635600466255, 0.7714794400585488, 0.750652162421821, 0.7583775692093234, 0.750652162421821, 0.7770640729484608, 0.772627215949002, 0.7813971316297276, 0.7738280966884263, 0.750652162421821, 0.7793086451642435, 0.7888611148803111, 0.7995618781841793, 0.793036752697067]}, {\"categories\": [\"0\", \"1\", \"2\", \"3\", \"4\", \"5\", \"6\", \"7\", \"8\", \"9\", \"10\", \"11\", \"12\", \"13\", \"14\", \"15\", \"16\", \"17\", \"18\", \"19\", \"20\", \"21\", \"22\", \"23\", \"24\", \"25\", \"26\", \"27\", \"28\", \"29\", \"30\", \"31\", \"32\", \"36\", \"37\"], \"mode\": \"lines\", \"name\": \"f1_score_micro_max\", \"stepped\": true, \"type\": \"scatter\", \"data\": [0.79486362489503, 0.79486362489503, 0.79486362489503, 0.79486362489503, 0.79486362489503, 0.79486362489503, 0.79486362489503, 0.79486362489503, 0.79486362489503, 0.79486362489503, 0.79486362489503, 0.79486362489503, 0.79486362489503, 0.79486362489503, 0.79486362489503, 0.79486362489503, 0.79486362489503, 0.79486362489503, 0.79486362489503, 0.79486362489503, 0.79486362489503, 0.79486362489503, 0.79486362489503, 0.79486362489503, 0.79486362489503, 0.79486362489503, 0.79486362489503, 0.79486362489503, 0.79486362489503, 0.79486362489503, 0.79486362489503, 0.79486362489503, 0.79486362489503, 0.7995618781841793, 0.7995618781841793]}], \"balanced_accuracy\": [{\"categories\": [\"0\", \"1\", \"2\", \"3\", \"4\", \"5\", \"6\", \"7\", \"8\", \"9\", \"10\", \"11\", \"12\", \"13\", \"14\", \"15\", \"16\", \"17\", \"18\", \"19\", \"20\", \"21\", \"22\", \"23\", \"24\", \"25\", \"26\", \"27\", \"28\", \"29\", \"30\", \"31\", \"32\", \"36\", \"37\"], \"mode\": \"markers\", \"name\": \"balanced_accuracy\", \"stepped\": false, \"type\": \"scatter\", \"data\": [0.7208282971168896, 0.7080920887009382, 0.6151615736177853, 0.565047848251089, 0.7559437550962962, 0.7255120130473003, 0.6537348354426482, 0.66171171514866, 0.6720302578149973, 0.5295342503072117, 0.6403737216484774, 0.6621071509840707, 0.6359537920813365, 0.6108914389781102, 0.5964516416567361, 0.5920115180712354, 0.6150514777437347, 0.6107638889460351, 0.6602427902901038, 0.6424836869041296, 0.5, 0.6625651193122426, 0.6233706803476607, 0.5, 0.5343278984258846, 0.5, 0.663688315027267, 0.6232169158436651, 0.6578078405899733, 0.6117752411818571, 0.5, 0.6639870518356693, 0.690583223748708, 0.7438745422822322, 0.7144129358749183]}, {\"categories\": [\"0\", \"1\", \"2\", \"3\", \"4\", \"5\", \"6\", \"7\", \"8\", \"9\", \"10\", \"11\", \"12\", \"13\", \"14\", \"15\", \"16\", \"17\", \"18\", \"19\", \"20\", \"21\", \"22\", \"23\", \"24\", \"25\", \"26\", \"27\", \"28\", \"29\", \"30\", \"31\", \"32\", \"36\", \"37\"], \"mode\": \"lines\", \"name\": \"balanced_accuracy_max\", \"stepped\": true, \"type\": \"scatter\", \"data\": [0.7208282971168896, 0.7208282971168896, 0.7208282971168896, 0.7208282971168896, 0.7559437550962962, 0.7559437550962962, 0.7559437550962962, 0.7559437550962962, 0.7559437550962962, 0.7559437550962962, 0.7559437550962962, 0.7559437550962962, 0.7559437550962962, 0.7559437550962962, 0.7559437550962962, 0.7559437550962962, 0.7559437550962962, 0.7559437550962962, 0.7559437550962962, 0.7559437550962962, 0.7559437550962962, 0.7559437550962962, 0.7559437550962962, 0.7559437550962962, 0.7559437550962962, 0.7559437550962962, 0.7559437550962962, 0.7559437550962962, 0.7559437550962962, 0.7559437550962962, 0.7559437550962962, 0.7559437550962962, 0.7559437550962962, 0.7559437550962962, 0.7559437550962962]}], \"f1_score_macro\": [{\"categories\": [\"0\", \"1\", \"2\", \"3\", \"4\", \"5\", \"6\", \"7\", \"8\", \"9\", \"10\", \"11\", \"12\", \"13\", \"14\", \"15\", \"16\", \"17\", \"18\", \"19\", \"20\", \"21\", \"22\", \"23\", \"24\", \"25\", \"26\", \"27\", \"28\", \"29\", \"30\", \"31\", \"32\", \"36\", \"37\"], \"mode\": \"markers\", \"name\": \"f1_score_macro\", \"stepped\": false, \"type\": \"scatter\", \"data\": [0.7230206154017388, 0.7141321136485834, 0.6281374398390931, 0.5578360992960383, 0.7125040759996744, 0.665077334402634, 0.6681604969556145, 0.675240310848426, 0.6823767187579567, 0.4961120823249331, 0.6561411758012576, 0.6765422140147335, 0.6519483492057764, 0.6236755578773586, 0.6053770794846003, 0.5991084114960212, 0.6285286732976534, 0.6233589126302377, 0.6727750814581865, 0.657531282713286, 0.42877895948114375, 0.6743466117317896, 0.6371771216115181, 0.42877895948114375, 0.5058490217527738, 0.42877895948114375, 0.6756105391142635, 0.6370459323470639, 0.6725776547632787, 0.6249732311027048, 0.42877895948114375, 0.6763974680312839, 0.7008540639646365, 0.7381955930229578, 0.7182294075198742]}, {\"categories\": [\"0\", \"1\", \"2\", \"3\", \"4\", \"5\", \"6\", \"7\", \"8\", \"9\", \"10\", \"11\", \"12\", \"13\", \"14\", \"15\", \"16\", \"17\", \"18\", \"19\", \"20\", \"21\", \"22\", \"23\", \"24\", \"25\", \"26\", \"27\", \"28\", \"29\", \"30\", \"31\", \"32\", \"36\", \"37\"], \"mode\": \"lines\", \"name\": \"f1_score_macro_max\", \"stepped\": true, \"type\": \"scatter\", \"data\": [0.7230206154017388, 0.7230206154017388, 0.7230206154017388, 0.7230206154017388, 0.7230206154017388, 0.7230206154017388, 0.7230206154017388, 0.7230206154017388, 0.7230206154017388, 0.7230206154017388, 0.7230206154017388, 0.7230206154017388, 0.7230206154017388, 0.7230206154017388, 0.7230206154017388, 0.7230206154017388, 0.7230206154017388, 0.7230206154017388, 0.7230206154017388, 0.7230206154017388, 0.7230206154017388, 0.7230206154017388, 0.7230206154017388, 0.7230206154017388, 0.7230206154017388, 0.7230206154017388, 0.7230206154017388, 0.7230206154017388, 0.7230206154017388, 0.7230206154017388, 0.7230206154017388, 0.7230206154017388, 0.7230206154017388, 0.7381955930229578, 0.7381955930229578]}], \"log_loss\": [{\"categories\": [\"0\", \"1\", \"2\", \"3\", \"4\", \"5\", \"6\", \"7\", \"8\", \"9\", \"10\", \"11\", \"12\", \"13\", \"14\", \"15\", \"16\", \"17\", \"18\", \"19\", \"20\", \"21\", \"22\", \"23\", \"24\", \"25\", \"26\", \"27\", \"28\", \"29\", \"30\", \"31\", \"32\", \"36\", \"37\"], \"mode\": \"markers\", \"name\": \"log_loss\", \"stepped\": false, \"type\": \"scatter\", \"data\": [0.43998561301201444, 0.4388759069413627, 0.46086617226217286, 0.47177620653748953, 0.5568756117729701, 0.5856817621460286, 0.4528910095791507, 0.4512721044667297, 0.45625650814283547, 0.4745189677027167, 0.4525474427403557, 0.45045872521332375, 0.45316956861352214, 0.46482230176466466, 0.46864443243049675, 0.4618834296031589, 0.4644463482763802, 0.4593326859362306, 0.4557220959834942, 0.454064900947903, 0.48792312419949535, 0.45875029616835317, 0.5081337360448654, 0.4815445278381447, 0.49539910057102843, 0.49469441046052626, 0.4564896456442093, 0.4574236957133809, 0.46272701149893347, 0.4676302136694509, 0.5461728244455089, 0.45593543985719426, 0.44481497528816527, 0.47068524926844024, 0.4372957052348805]}, {\"categories\": [\"0\", \"1\", \"2\", \"3\", \"4\", \"5\", \"6\", \"7\", \"8\", \"9\", \"10\", \"11\", \"12\", \"13\", \"14\", \"15\", \"16\", \"17\", \"18\", \"19\", \"20\", \"21\", \"22\", \"23\", \"24\", \"25\", \"26\", \"27\", \"28\", \"29\", \"30\", \"31\", \"32\", \"36\", \"37\"], \"mode\": \"lines\", \"name\": \"log_loss_min\", \"stepped\": true, \"type\": \"scatter\", \"data\": [0.43998561301201444, 0.4388759069413627, 0.4388759069413627, 0.4388759069413627, 0.4388759069413627, 0.4388759069413627, 0.4388759069413627, 0.4388759069413627, 0.4388759069413627, 0.4388759069413627, 0.4388759069413627, 0.4388759069413627, 0.4388759069413627, 0.4388759069413627, 0.4388759069413627, 0.4388759069413627, 0.4388759069413627, 0.4388759069413627, 0.4388759069413627, 0.4388759069413627, 0.4388759069413627, 0.4388759069413627, 0.4388759069413627, 0.4388759069413627, 0.4388759069413627, 0.4388759069413627, 0.4388759069413627, 0.4388759069413627, 0.4388759069413627, 0.4388759069413627, 0.4388759069413627, 0.4388759069413627, 0.4388759069413627, 0.4388759069413627, 0.4372957052348805]}], \"matthews_correlation\": [{\"categories\": [\"0\", \"1\", \"2\", \"3\", \"4\", \"5\", \"6\", \"7\", \"8\", \"9\", \"10\", \"11\", \"12\", \"13\", \"14\", \"15\", \"16\", \"17\", \"18\", \"19\", \"20\", \"21\", \"22\", \"23\", \"24\", \"25\", \"26\", \"27\", \"28\", \"29\", \"30\", \"31\", \"32\", \"36\", \"37\"], \"mode\": \"markers\", \"name\": \"matthews_correlation\", \"stepped\": false, \"type\": \"scatter\", \"data\": [0.4464392428151588, 0.4298016976545571, 0.3031056328998279, 0.2199345362296902, 0.4565446749636656, 0.3933394539104224, 0.3529783336252527, 0.36206545560930803, 0.37016496574497304, 0.14533589479307868, 0.3372727735169829, 0.3659084850473814, 0.3331244382556337, 0.2917633810455494, 0.26327009965286974, 0.265963959122266, 0.298091960517054, 0.2961826549377638, 0.35519544524569585, 0.3376461819451768, 0.0, 0.3568523628679932, 0.30531523727907234, 0.0, 0.1592643790457172, 0.0, 0.3597711112486052, 0.30698425685622277, 0.3598553107956466, 0.29696534250076206, 0.0, 0.3634869656918921, 0.406007179687976, 0.47725469480597554, 0.43725673536611503]}, {\"categories\": [\"0\", \"1\", \"2\", \"3\", \"4\", \"5\", \"6\", \"7\", \"8\", \"9\", \"10\", \"11\", \"12\", \"13\", \"14\", \"15\", \"16\", \"17\", \"18\", \"19\", \"20\", \"21\", \"22\", \"23\", \"24\", \"25\", \"26\", \"27\", \"28\", \"29\", \"30\", \"31\", \"32\", \"36\", \"37\"], \"mode\": \"lines\", \"name\": \"matthews_correlation_max\", \"stepped\": true, \"type\": \"scatter\", \"data\": [0.4464392428151588, 0.4464392428151588, 0.4464392428151588, 0.4464392428151588, 0.4565446749636656, 0.4565446749636656, 0.4565446749636656, 0.4565446749636656, 0.4565446749636656, 0.4565446749636656, 0.4565446749636656, 0.4565446749636656, 0.4565446749636656, 0.4565446749636656, 0.4565446749636656, 0.4565446749636656, 0.4565446749636656, 0.4565446749636656, 0.4565446749636656, 0.4565446749636656, 0.4565446749636656, 0.4565446749636656, 0.4565446749636656, 0.4565446749636656, 0.4565446749636656, 0.4565446749636656, 0.4565446749636656, 0.4565446749636656, 0.4565446749636656, 0.4565446749636656, 0.4565446749636656, 0.4565446749636656, 0.4565446749636656, 0.47725469480597554, 0.47725469480597554]}], \"weighted_accuracy\": [{\"categories\": [\"0\", \"1\", \"2\", \"3\", \"4\", \"5\", \"6\", \"7\", \"8\", \"9\", \"10\", \"11\", \"12\", \"13\", \"14\", \"15\", \"16\", \"17\", \"18\", \"19\", \"20\", \"21\", \"22\", \"23\", \"24\", \"25\", \"26\", \"27\", \"28\", \"29\", \"30\", \"31\", \"32\", \"36\", \"37\"], \"mode\": \"markers\", \"name\": \"weighted_accuracy\", \"stepped\": false, \"type\": \"scatter\", \"data\": [0.8391854481563662, 0.8431508541714962, 0.8703565733561052, 0.8844369361744903, 0.7501086854632899, 0.6788326609716023, 0.8549881888827177, 0.8509058608006675, 0.8408163240737492, 0.8926216688583402, 0.8616747626069075, 0.8542387663353834, 0.8648889827107334, 0.8681757403383976, 0.8676469566272568, 0.8756353127288339, 0.8670376955165677, 0.871996431472868, 0.846131537601806, 0.8586193714672744, 0.9005442636628962, 0.8436736863963817, 0.8600345192694622, 0.9005442636628962, 0.8923439769804171, 0.9005442636628962, 0.8449124981023625, 0.8620603170726303, 0.85532092195595, 0.870733998602244, 0.9005442636628962, 0.8484003567155973, 0.8476676481619554, 0.8328928848517657, 0.8401220223346775]}, {\"categories\": [\"0\", \"1\", \"2\", \"3\", \"4\", \"5\", \"6\", \"7\", \"8\", \"9\", \"10\", \"11\", \"12\", \"13\", \"14\", \"15\", \"16\", \"17\", \"18\", \"19\", \"20\", \"21\", \"22\", \"23\", \"24\", \"25\", \"26\", \"27\", \"28\", \"29\", \"30\", \"31\", \"32\", \"36\", \"37\"], \"mode\": \"lines\", \"name\": \"weighted_accuracy_max\", \"stepped\": true, \"type\": \"scatter\", \"data\": [0.8391854481563662, 0.8431508541714962, 0.8703565733561052, 0.8844369361744903, 0.8844369361744903, 0.8844369361744903, 0.8844369361744903, 0.8844369361744903, 0.8844369361744903, 0.8926216688583402, 0.8926216688583402, 0.8926216688583402, 0.8926216688583402, 0.8926216688583402, 0.8926216688583402, 0.8926216688583402, 0.8926216688583402, 0.8926216688583402, 0.8926216688583402, 0.8926216688583402, 0.9005442636628962, 0.9005442636628962, 0.9005442636628962, 0.9005442636628962, 0.9005442636628962, 0.9005442636628962, 0.9005442636628962, 0.9005442636628962, 0.9005442636628962, 0.9005442636628962, 0.9005442636628962, 0.9005442636628962, 0.9005442636628962, 0.9005442636628962, 0.9005442636628962]}]}, \"metricName\": null, \"primaryMetricName\": \"accuracy\", \"showLegend\": false}, \"run_metrics\": [{\"name\": \"experiment_status\", \"run_id\": \"AutoML_1a933934-0ea3-4fc1-b8da-5644fb2b70f1\", \"categories\": [0, 1, 2, 3, 4, 5, 6, 7, 8, 9, 10, 11, 12, 13], \"series\": [{\"data\": [\"DatasetEvaluation\", \"FeaturesGeneration\", \"DatasetFeaturization\", \"DatasetFeaturizationCompleted\", \"DatasetCrossValidationSplit\", \"ModelSelection\", \"BestRunExplainModel\", \"ModelExplanationDataSetSetup\", \"PickSurrogateModel\", \"EngineeredFeatureExplanations\", \"EngineeredFeatureExplanations\", \"RawFeaturesExplanations\", \"RawFeaturesExplanations\", \"BestRunExplainModel\"]}]}, {\"name\": \"experiment_status_description\", \"run_id\": \"AutoML_1a933934-0ea3-4fc1-b8da-5644fb2b70f1\", \"categories\": [0, 1, 2, 3, 4, 5, 6, 7, 8, 9, 10, 11, 12, 13], \"series\": [{\"data\": [\"Gathering dataset statistics.\", \"Generating features for the dataset.\", \"Beginning to fit featurizers and featurize the dataset.\", \"Completed fit featurizers and featurizing the dataset.\", \"Generating individually featurized CV splits.\", \"Beginning model selection.\", \"Best run model explanations started\", \"Model explanations data setup completed\", \"Choosing LightGBM as the surrogate model for explanations\", \"Computation of engineered features started\", \"Computation of engineered features completed\", \"Computation of raw features started\", \"Computation of raw features completed\", \"Best run model explanations completed\"]}]}, {\"name\": \"precision_score_weighted\", \"run_id\": \"AutoML_1a933934-0ea3-4fc1-b8da-5644fb2b70f1\", \"categories\": [0], \"series\": [{\"data\": [0.8045938822023457]}]}, {\"name\": \"weighted_accuracy\", \"run_id\": \"AutoML_1a933934-0ea3-4fc1-b8da-5644fb2b70f1\", \"categories\": [0], \"series\": [{\"data\": [0.8328928848517657]}]}, {\"name\": \"average_precision_score_weighted\", \"run_id\": \"AutoML_1a933934-0ea3-4fc1-b8da-5644fb2b70f1\", \"categories\": [0], \"series\": [{\"data\": [0.8124026466063021]}]}, {\"name\": \"f1_score_weighted\", \"run_id\": \"AutoML_1a933934-0ea3-4fc1-b8da-5644fb2b70f1\", \"categories\": [0], \"series\": [{\"data\": [0.8017565386661442]}]}, {\"name\": \"recall_score_macro\", \"run_id\": \"AutoML_1a933934-0ea3-4fc1-b8da-5644fb2b70f1\", \"categories\": [0], \"series\": [{\"data\": [0.7438745422822322]}]}, {\"name\": \"f1_score_macro\", \"run_id\": \"AutoML_1a933934-0ea3-4fc1-b8da-5644fb2b70f1\", \"categories\": [0], \"series\": [{\"data\": [0.7381955930229578]}]}, {\"name\": \"precision_score_macro\", \"run_id\": \"AutoML_1a933934-0ea3-4fc1-b8da-5644fb2b70f1\", \"categories\": [0], \"series\": [{\"data\": [0.7335225661073007]}]}, {\"name\": \"AUC_macro\", \"run_id\": \"AutoML_1a933934-0ea3-4fc1-b8da-5644fb2b70f1\", \"categories\": [0], \"series\": [{\"data\": [0.7967566582154819]}]}, {\"name\": \"AUC_micro\", \"run_id\": \"AutoML_1a933934-0ea3-4fc1-b8da-5644fb2b70f1\", \"categories\": [0], \"series\": [{\"data\": [0.8722410266639775]}]}, {\"name\": \"log_loss\", \"run_id\": \"AutoML_1a933934-0ea3-4fc1-b8da-5644fb2b70f1\", \"categories\": [0], \"series\": [{\"data\": [0.47068524926844024]}]}, {\"name\": \"average_precision_score_micro\", \"run_id\": \"AutoML_1a933934-0ea3-4fc1-b8da-5644fb2b70f1\", \"categories\": [0], \"series\": [{\"data\": [0.8595430652077288]}]}, {\"name\": \"average_precision_score_macro\", \"run_id\": \"AutoML_1a933934-0ea3-4fc1-b8da-5644fb2b70f1\", \"categories\": [0], \"series\": [{\"data\": [0.7215168181730871]}]}, {\"name\": \"accuracy\", \"run_id\": \"AutoML_1a933934-0ea3-4fc1-b8da-5644fb2b70f1\", \"categories\": [0], \"series\": [{\"data\": [0.7995618781841793]}]}, {\"name\": \"recall_score_weighted\", \"run_id\": \"AutoML_1a933934-0ea3-4fc1-b8da-5644fb2b70f1\", \"categories\": [0], \"series\": [{\"data\": [0.7995618781841793]}]}, {\"name\": \"matthews_correlation\", \"run_id\": \"AutoML_1a933934-0ea3-4fc1-b8da-5644fb2b70f1\", \"categories\": [0], \"series\": [{\"data\": [0.47725469480597554]}]}, {\"name\": \"norm_macro_recall\", \"run_id\": \"AutoML_1a933934-0ea3-4fc1-b8da-5644fb2b70f1\", \"categories\": [0], \"series\": [{\"data\": [0.4877490845644643]}]}, {\"name\": \"AUC_weighted\", \"run_id\": \"AutoML_1a933934-0ea3-4fc1-b8da-5644fb2b70f1\", \"categories\": [0], \"series\": [{\"data\": [0.7967566582154819]}]}, {\"name\": \"precision_score_micro\", \"run_id\": \"AutoML_1a933934-0ea3-4fc1-b8da-5644fb2b70f1\", \"categories\": [0], \"series\": [{\"data\": [0.7995618781841793]}]}, {\"name\": \"recall_score_micro\", \"run_id\": \"AutoML_1a933934-0ea3-4fc1-b8da-5644fb2b70f1\", \"categories\": [0], \"series\": [{\"data\": [0.7995618781841793]}]}, {\"name\": \"f1_score_micro\", \"run_id\": \"AutoML_1a933934-0ea3-4fc1-b8da-5644fb2b70f1\", \"categories\": [0], \"series\": [{\"data\": [0.7995618781841793]}]}, {\"name\": \"balanced_accuracy\", \"run_id\": \"AutoML_1a933934-0ea3-4fc1-b8da-5644fb2b70f1\", \"categories\": [0], \"series\": [{\"data\": [0.7438745422822322]}]}], \"run_logs\": \"\\nRun is completed.\", \"graph\": {}, \"widget_settings\": {\"childWidgetDisplay\": \"popup\", \"send_telemetry\": false, \"log_level\": \"INFO\", \"sdk_version\": \"1.19.0\"}, \"loading\": false}"
     },
     "metadata": {},
     "output_type": "display_data"
    }
   ],
   "source": [
    "RunDetails(remote_run).show()"
   ]
  },
  {
   "cell_type": "code",
   "execution_count": 12,
   "metadata": {
    "gather": {
     "logged": 1610272532095
    }
   },
   "outputs": [
    {
     "name": "stdout",
     "output_type": "stream",
     "text": [
      "\n",
      "\n",
      "****************************************************************************************************\n",
      "DATA GUARDRAILS: \n",
      "\n",
      "TYPE:         Class balancing detection\n",
      "STATUS:       PASSED\n",
      "DESCRIPTION:  Your inputs were analyzed, and all classes are balanced in your training data.\n",
      "              Learn more about imbalanced data: https://aka.ms/AutomatedMLImbalancedData\n",
      "\n",
      "****************************************************************************************************\n",
      "\n",
      "TYPE:         Missing feature values imputation\n",
      "STATUS:       DONE\n",
      "DESCRIPTION:  If the missing values are expected, let the run complete. Otherwise cancel the current run and use a script to customize the handling of missing feature values that may be more appropriate based on the data type and business requirement.\n",
      "              Learn more about missing value imputation: https://aka.ms/AutomatedMLFeaturization\n",
      "DETAILS:      \n",
      "+---------------------------------+---------------------------------+\n",
      "|Column name                      |Missing value count              |\n",
      "+=================================+=================================+\n",
      "|gender                           |4508                             |\n",
      "|enrolled_university              |386                              |\n",
      "|education_level                  |460                              |\n",
      "|major_discipline                 |2813                             |\n",
      "|experience                       |65                               |\n",
      "|company_size                     |5938                             |\n",
      "|company_type                     |6140                             |\n",
      "|last_new_job                     |423                              |\n",
      "+---------------------------------+---------------------------------+\n",
      "\n",
      "****************************************************************************************************\n",
      "\n",
      "TYPE:         High cardinality feature detection\n",
      "STATUS:       PASSED\n",
      "DESCRIPTION:  Your inputs were analyzed, and no high cardinality features were detected.\n",
      "              Learn more about high cardinality feature handling: https://aka.ms/AutomatedMLFeaturization\n",
      "\n",
      "****************************************************************************************************\n",
      "\n",
      "****************************************************************************************************\n",
      "ITERATION: The iteration being evaluated.\n",
      "PIPELINE: A summary description of the pipeline being evaluated.\n",
      "DURATION: Time taken for the current iteration.\n",
      "METRIC: The result of computing score on the fitted pipeline.\n",
      "BEST: The best observed score thus far.\n",
      "****************************************************************************************************\n",
      "\n",
      " ITERATION   PIPELINE                                       DURATION      METRIC      BEST\n",
      "         0   MaxAbsScaler LightGBM                          0:00:47       0.7949    0.7949\n",
      "         1   MaxAbsScaler XGBoostClassifier                 0:00:57       0.7926    0.7949\n",
      "         2   MaxAbsScaler RandomForest                      0:00:51       0.7748    0.7949\n",
      "         3   MaxAbsScaler RandomForest                      0:00:49       0.7649    0.7949\n",
      "         4   MaxAbsScaler RandomForest                      0:00:49       0.7523    0.7949\n",
      "         5   MaxAbsScaler RandomForest                      0:02:26       0.6963    0.7949\n",
      "         6   SparseNormalizer XGBoostClassifier             0:02:50       0.7796    0.7949\n",
      "         7   SparseNormalizer XGBoostClassifier             0:02:15       0.7801    0.7949\n",
      "        10   StandardScalerWrapper RandomForest             0:00:54       0.7789    0.7949\n",
      "        11   MaxAbsScaler RandomForest                      0:00:46       0.7823    0.7949\n",
      "         8   SparseNormalizer XGBoostClassifier             0:00:53       0.7776    0.7949\n",
      "         9   MaxAbsScaler RandomForest                      0:01:04       0.7568    0.7949\n",
      "        12   MaxAbsScaler LightGBM                          0:00:42       0.7792    0.7949\n",
      "        13   MaxAbsScaler LogisticRegression                0:00:48       0.7719    0.7949\n",
      "        14   SparseNormalizer LightGBM                      0:00:49       0.7661    0.7949\n",
      "        15   MaxAbsScaler LightGBM                          0:00:43       0.7694    0.7949\n",
      "        16   MaxAbsScaler LogisticRegression                0:00:56       0.7727    0.7949\n",
      "        17   MaxAbsScaler LightGBM                          0:00:43       0.7742    0.7949\n",
      "        18   SparseNormalizer XGBoostClassifier             0:00:52       0.7765    0.7949\n",
      "        19   SparseNormalizer XGBoostClassifier             0:00:48       0.7777    0.7949\n",
      "        20   StandardScalerWrapper ExtremeRandomTrees       0:00:46       0.7507    0.7949\n",
      "        21   SparseNormalizer XGBoostClassifier             0:00:49       0.7759    0.7949\n",
      "        22   SparseNormalizer XGBoostClassifier             0:00:43       0.7715    0.7949\n",
      "        23   MaxAbsScaler LightGBM                          0:00:40       0.7507    0.7949\n",
      "        24   TruncatedSVDWrapper XGBoostClassifier          0:00:43       0.7584    0.7949\n",
      "        25   MaxAbsScaler LightGBM                          0:00:47       0.7507    0.7949\n",
      "        26   SparseNormalizer XGBoostClassifier             0:00:53       0.7771    0.7949\n",
      "        27   SparseNormalizer LightGBM                      0:00:39       0.7726    0.7949\n",
      "        28   StandardScalerWrapper XGBoostClassifier        0:00:43       0.7814    0.7949\n",
      "        29   StandardScalerWrapper LightGBM                 0:00:40       0.7738    0.7949\n",
      "        30   StandardScalerWrapper LightGBM                 0:00:53       0.7507    0.7949\n",
      "        31   SparseNormalizer XGBoostClassifier             0:00:45       0.7793    0.7949\n",
      "        32   MaxAbsScaler LightGBM                          0:00:39       0.7889    0.7949\n",
      "        33   MaxAbsScaler ExtremeRandomTrees                0:00:26          nan    0.7949\n",
      "        34                                                  0:00:17          nan    0.7949\n",
      "        35                                                  0:00:15          nan    0.7949\n",
      "        36    VotingEnsemble                                0:01:31       0.7996    0.7996\n",
      "        37    StackEnsemble                                 0:01:37       0.7930    0.7996\n"
     ]
    },
    {
     "data": {
      "text/plain": [
       "{'runId': 'AutoML_1a933934-0ea3-4fc1-b8da-5644fb2b70f1',\n",
       " 'target': 'project-cluster',\n",
       " 'status': 'Completed',\n",
       " 'startTimeUtc': '2021-01-10T14:43:44.561949Z',\n",
       " 'endTimeUtc': '2021-01-10T15:05:16.092778Z',\n",
       " 'properties': {'num_iterations': '1000',\n",
       "  'training_type': 'TrainFull',\n",
       "  'acquisition_function': 'EI',\n",
       "  'primary_metric': 'accuracy',\n",
       "  'train_split': '0',\n",
       "  'acquisition_parameter': '0',\n",
       "  'num_cross_validation': '5',\n",
       "  'target': 'project-cluster',\n",
       "  'AMLSettingsJsonString': '{\"path\":null,\"name\":\"auto_exp\",\"subscription_id\":\"81cefad3-d2c9-4f77-a466-99a7f541c7bb\",\"resource_group\":\"aml-quickstarts-134223\",\"workspace_name\":\"quick-starts-ws-134223\",\"region\":\"southcentralus\",\"compute_target\":\"project-cluster\",\"spark_service\":null,\"azure_service\":\"remote\",\"many_models\":false,\"pipeline_fetch_max_batch_size\":1,\"iterations\":1000,\"primary_metric\":\"accuracy\",\"task_type\":\"classification\",\"data_script\":null,\"validation_size\":0.0,\"n_cross_validations\":5,\"y_min\":null,\"y_max\":null,\"num_classes\":null,\"featurization\":\"auto\",\"_ignore_package_version_incompatibilities\":false,\"is_timeseries\":false,\"max_cores_per_iteration\":-1,\"max_concurrent_iterations\":4,\"iteration_timeout_minutes\":null,\"mem_in_mb\":null,\"enforce_time_on_windows\":false,\"experiment_timeout_minutes\":30,\"experiment_exit_score\":null,\"whitelist_models\":null,\"blacklist_algos\":[\"TensorFlowLinearClassifier\",\"TensorFlowDNN\"],\"supported_models\":[\"DecisionTree\",\"KNN\",\"LinearSVM\",\"LogisticRegression\",\"XGBoostClassifier\",\"GradientBoosting\",\"TensorFlowDNN\",\"RandomForest\",\"AveragedPerceptronClassifier\",\"BernoulliNaiveBayes\",\"ExtremeRandomTrees\",\"SVM\",\"TensorFlowLinearClassifier\",\"MultinomialNaiveBayes\",\"SGD\",\"LightGBM\"],\"auto_blacklist\":true,\"blacklist_samples_reached\":false,\"exclude_nan_labels\":true,\"verbosity\":20,\"_debug_log\":\"azureml_automl.log\",\"show_warnings\":false,\"model_explainability\":true,\"service_url\":null,\"sdk_url\":null,\"sdk_packages\":null,\"enable_onnx_compatible_models\":false,\"enable_split_onnx_featurizer_estimator_models\":false,\"vm_type\":\"STANDARD_D12_V2\",\"telemetry_verbosity\":20,\"send_telemetry\":true,\"enable_dnn\":false,\"scenario\":\"SDK-1.13.0\",\"environment_label\":null,\"force_text_dnn\":false,\"enable_feature_sweeping\":true,\"enable_early_stopping\":true,\"early_stopping_n_iters\":10,\"metrics\":null,\"enable_ensembling\":true,\"enable_stack_ensembling\":true,\"ensemble_iterations\":15,\"enable_tf\":false,\"enable_subsampling\":null,\"subsample_seed\":null,\"enable_nimbusml\":false,\"enable_streaming\":false,\"force_streaming\":false,\"track_child_runs\":true,\"allowed_private_models\":[],\"label_column_name\":\"target\",\"weight_column_name\":null,\"cv_split_column_names\":null,\"enable_local_managed\":false,\"_local_managed_run_id\":null,\"cost_mode\":1,\"lag_length\":0,\"metric_operation\":\"maximize\",\"preprocess\":true}',\n",
       "  'DataPrepJsonString': '{\\\\\"training_data\\\\\": \\\\\"{\\\\\\\\\\\\\"blocks\\\\\\\\\\\\\": [{\\\\\\\\\\\\\"id\\\\\\\\\\\\\": \\\\\\\\\\\\\"0723e4a9-b2a8-4784-a80b-d4bf2763040b\\\\\\\\\\\\\", \\\\\\\\\\\\\"type\\\\\\\\\\\\\": \\\\\\\\\\\\\"Microsoft.DPrep.GetDatastoreFilesBlock\\\\\\\\\\\\\", \\\\\\\\\\\\\"arguments\\\\\\\\\\\\\": {\\\\\\\\\\\\\"datastores\\\\\\\\\\\\\": [{\\\\\\\\\\\\\"datastoreName\\\\\\\\\\\\\": \\\\\\\\\\\\\"workspaceblobstore\\\\\\\\\\\\\", \\\\\\\\\\\\\"path\\\\\\\\\\\\\": \\\\\\\\\\\\\"UI/01-10-2021_020103_UTC/train.csv\\\\\\\\\\\\\", \\\\\\\\\\\\\"resourceGroup\\\\\\\\\\\\\": \\\\\\\\\\\\\"aml-quickstarts-134223\\\\\\\\\\\\\", \\\\\\\\\\\\\"subscription\\\\\\\\\\\\\": \\\\\\\\\\\\\"81cefad3-d2c9-4f77-a466-99a7f541c7bb\\\\\\\\\\\\\", \\\\\\\\\\\\\"workspaceName\\\\\\\\\\\\\": \\\\\\\\\\\\\"quick-starts-ws-134223\\\\\\\\\\\\\"}]}, \\\\\\\\\\\\\"localData\\\\\\\\\\\\\": {}, \\\\\\\\\\\\\"isEnabled\\\\\\\\\\\\\": true, \\\\\\\\\\\\\"name\\\\\\\\\\\\\": null, \\\\\\\\\\\\\"annotation\\\\\\\\\\\\\": null}, {\\\\\\\\\\\\\"id\\\\\\\\\\\\\": \\\\\\\\\\\\\"5139a469-c689-4685-bee9-ae2bc6bbb260\\\\\\\\\\\\\", \\\\\\\\\\\\\"type\\\\\\\\\\\\\": \\\\\\\\\\\\\"Microsoft.DPrep.ParseDelimitedBlock\\\\\\\\\\\\\", \\\\\\\\\\\\\"arguments\\\\\\\\\\\\\": {\\\\\\\\\\\\\"columnHeadersMode\\\\\\\\\\\\\": 1, \\\\\\\\\\\\\"fileEncoding\\\\\\\\\\\\\": 0, \\\\\\\\\\\\\"handleQuotedLineBreaks\\\\\\\\\\\\\": false, \\\\\\\\\\\\\"preview\\\\\\\\\\\\\": false, \\\\\\\\\\\\\"separator\\\\\\\\\\\\\": \\\\\\\\\\\\\",\\\\\\\\\\\\\", \\\\\\\\\\\\\"skipRows\\\\\\\\\\\\\": 0, \\\\\\\\\\\\\"skipRowsMode\\\\\\\\\\\\\": 0}, \\\\\\\\\\\\\"localData\\\\\\\\\\\\\": {}, \\\\\\\\\\\\\"isEnabled\\\\\\\\\\\\\": true, \\\\\\\\\\\\\"name\\\\\\\\\\\\\": null, \\\\\\\\\\\\\"annotation\\\\\\\\\\\\\": null}, {\\\\\\\\\\\\\"id\\\\\\\\\\\\\": \\\\\\\\\\\\\"220bdb7d-406f-478b-b513-0187844fde73\\\\\\\\\\\\\", \\\\\\\\\\\\\"type\\\\\\\\\\\\\": \\\\\\\\\\\\\"Microsoft.DPrep.DropColumnsBlock\\\\\\\\\\\\\", \\\\\\\\\\\\\"arguments\\\\\\\\\\\\\": {\\\\\\\\\\\\\"columns\\\\\\\\\\\\\": {\\\\\\\\\\\\\"type\\\\\\\\\\\\\": 0, \\\\\\\\\\\\\"details\\\\\\\\\\\\\": {\\\\\\\\\\\\\"selectedColumns\\\\\\\\\\\\\": [\\\\\\\\\\\\\"Path\\\\\\\\\\\\\"]}}}, \\\\\\\\\\\\\"localData\\\\\\\\\\\\\": {}, \\\\\\\\\\\\\"isEnabled\\\\\\\\\\\\\": true, \\\\\\\\\\\\\"name\\\\\\\\\\\\\": null, \\\\\\\\\\\\\"annotation\\\\\\\\\\\\\": null}, {\\\\\\\\\\\\\"id\\\\\\\\\\\\\": \\\\\\\\\\\\\"6cf6d153-4c19-4ba5-9fed-9a9b815eea33\\\\\\\\\\\\\", \\\\\\\\\\\\\"type\\\\\\\\\\\\\": \\\\\\\\\\\\\"Microsoft.DPrep.SetColumnTypesBlock\\\\\\\\\\\\\", \\\\\\\\\\\\\"arguments\\\\\\\\\\\\\": {\\\\\\\\\\\\\"columnConversion\\\\\\\\\\\\\": [{\\\\\\\\\\\\\"column\\\\\\\\\\\\\": {\\\\\\\\\\\\\"type\\\\\\\\\\\\\": 2, \\\\\\\\\\\\\"details\\\\\\\\\\\\\": {\\\\\\\\\\\\\"selectedColumn\\\\\\\\\\\\\": \\\\\\\\\\\\\"Path\\\\\\\\\\\\\"}}, \\\\\\\\\\\\\"typeProperty\\\\\\\\\\\\\": 0}, {\\\\\\\\\\\\\"column\\\\\\\\\\\\\": {\\\\\\\\\\\\\"type\\\\\\\\\\\\\": 2, \\\\\\\\\\\\\"details\\\\\\\\\\\\\": {\\\\\\\\\\\\\"selectedColumn\\\\\\\\\\\\\": \\\\\\\\\\\\\"enrollee_id\\\\\\\\\\\\\"}}, \\\\\\\\\\\\\"typeProperty\\\\\\\\\\\\\": 2}, {\\\\\\\\\\\\\"column\\\\\\\\\\\\\": {\\\\\\\\\\\\\"type\\\\\\\\\\\\\": 2, \\\\\\\\\\\\\"details\\\\\\\\\\\\\": {\\\\\\\\\\\\\"selectedColumn\\\\\\\\\\\\\": \\\\\\\\\\\\\"city\\\\\\\\\\\\\"}}, \\\\\\\\\\\\\"typeProperty\\\\\\\\\\\\\": 0}, {\\\\\\\\\\\\\"column\\\\\\\\\\\\\": {\\\\\\\\\\\\\"type\\\\\\\\\\\\\": 2, \\\\\\\\\\\\\"details\\\\\\\\\\\\\": {\\\\\\\\\\\\\"selectedColumn\\\\\\\\\\\\\": \\\\\\\\\\\\\"city_development_index\\\\\\\\\\\\\"}}, \\\\\\\\\\\\\"typeProperty\\\\\\\\\\\\\": 3}, {\\\\\\\\\\\\\"column\\\\\\\\\\\\\": {\\\\\\\\\\\\\"type\\\\\\\\\\\\\": 2, \\\\\\\\\\\\\"details\\\\\\\\\\\\\": {\\\\\\\\\\\\\"selectedColumn\\\\\\\\\\\\\": \\\\\\\\\\\\\"gender\\\\\\\\\\\\\"}}, \\\\\\\\\\\\\"typeProperty\\\\\\\\\\\\\": 0}, {\\\\\\\\\\\\\"column\\\\\\\\\\\\\": {\\\\\\\\\\\\\"type\\\\\\\\\\\\\": 2, \\\\\\\\\\\\\"details\\\\\\\\\\\\\": {\\\\\\\\\\\\\"selectedColumn\\\\\\\\\\\\\": \\\\\\\\\\\\\"relevent_experience\\\\\\\\\\\\\"}}, \\\\\\\\\\\\\"typeProperty\\\\\\\\\\\\\": 0}, {\\\\\\\\\\\\\"column\\\\\\\\\\\\\": {\\\\\\\\\\\\\"type\\\\\\\\\\\\\": 2, \\\\\\\\\\\\\"details\\\\\\\\\\\\\": {\\\\\\\\\\\\\"selectedColumn\\\\\\\\\\\\\": \\\\\\\\\\\\\"enrolled_university\\\\\\\\\\\\\"}}, \\\\\\\\\\\\\"typeProperty\\\\\\\\\\\\\": 0}, {\\\\\\\\\\\\\"column\\\\\\\\\\\\\": {\\\\\\\\\\\\\"type\\\\\\\\\\\\\": 2, \\\\\\\\\\\\\"details\\\\\\\\\\\\\": {\\\\\\\\\\\\\"selectedColumn\\\\\\\\\\\\\": \\\\\\\\\\\\\"education_level\\\\\\\\\\\\\"}}, \\\\\\\\\\\\\"typeProperty\\\\\\\\\\\\\": 0}, {\\\\\\\\\\\\\"column\\\\\\\\\\\\\": {\\\\\\\\\\\\\"type\\\\\\\\\\\\\": 2, \\\\\\\\\\\\\"details\\\\\\\\\\\\\": {\\\\\\\\\\\\\"selectedColumn\\\\\\\\\\\\\": \\\\\\\\\\\\\"major_discipline\\\\\\\\\\\\\"}}, \\\\\\\\\\\\\"typeProperty\\\\\\\\\\\\\": 0}, {\\\\\\\\\\\\\"column\\\\\\\\\\\\\": {\\\\\\\\\\\\\"type\\\\\\\\\\\\\": 2, \\\\\\\\\\\\\"details\\\\\\\\\\\\\": {\\\\\\\\\\\\\"selectedColumn\\\\\\\\\\\\\": \\\\\\\\\\\\\"experience\\\\\\\\\\\\\"}}, \\\\\\\\\\\\\"typeProperty\\\\\\\\\\\\\": 0}, {\\\\\\\\\\\\\"column\\\\\\\\\\\\\": {\\\\\\\\\\\\\"type\\\\\\\\\\\\\": 2, \\\\\\\\\\\\\"details\\\\\\\\\\\\\": {\\\\\\\\\\\\\"selectedColumn\\\\\\\\\\\\\": \\\\\\\\\\\\\"company_size\\\\\\\\\\\\\"}}, \\\\\\\\\\\\\"typeProperty\\\\\\\\\\\\\": 0}, {\\\\\\\\\\\\\"column\\\\\\\\\\\\\": {\\\\\\\\\\\\\"type\\\\\\\\\\\\\": 2, \\\\\\\\\\\\\"details\\\\\\\\\\\\\": {\\\\\\\\\\\\\"selectedColumn\\\\\\\\\\\\\": \\\\\\\\\\\\\"company_type\\\\\\\\\\\\\"}}, \\\\\\\\\\\\\"typeProperty\\\\\\\\\\\\\": 0}, {\\\\\\\\\\\\\"column\\\\\\\\\\\\\": {\\\\\\\\\\\\\"type\\\\\\\\\\\\\": 2, \\\\\\\\\\\\\"details\\\\\\\\\\\\\": {\\\\\\\\\\\\\"selectedColumn\\\\\\\\\\\\\": \\\\\\\\\\\\\"last_new_job\\\\\\\\\\\\\"}}, \\\\\\\\\\\\\"typeProperty\\\\\\\\\\\\\": 0}, {\\\\\\\\\\\\\"column\\\\\\\\\\\\\": {\\\\\\\\\\\\\"type\\\\\\\\\\\\\": 2, \\\\\\\\\\\\\"details\\\\\\\\\\\\\": {\\\\\\\\\\\\\"selectedColumn\\\\\\\\\\\\\": \\\\\\\\\\\\\"training_hours\\\\\\\\\\\\\"}}, \\\\\\\\\\\\\"typeProperty\\\\\\\\\\\\\": 2}, {\\\\\\\\\\\\\"column\\\\\\\\\\\\\": {\\\\\\\\\\\\\"type\\\\\\\\\\\\\": 2, \\\\\\\\\\\\\"details\\\\\\\\\\\\\": {\\\\\\\\\\\\\"selectedColumn\\\\\\\\\\\\\": \\\\\\\\\\\\\"target\\\\\\\\\\\\\"}}, \\\\\\\\\\\\\"typeProperty\\\\\\\\\\\\\": 3}]}, \\\\\\\\\\\\\"localData\\\\\\\\\\\\\": {}, \\\\\\\\\\\\\"isEnabled\\\\\\\\\\\\\": true, \\\\\\\\\\\\\"name\\\\\\\\\\\\\": null, \\\\\\\\\\\\\"annotation\\\\\\\\\\\\\": null}, {\\\\\\\\\\\\\"id\\\\\\\\\\\\\": \\\\\\\\\\\\\"396ba986-7e58-4c35-9a38-cc05ebebff27\\\\\\\\\\\\\", \\\\\\\\\\\\\"type\\\\\\\\\\\\\": \\\\\\\\\\\\\"Microsoft.DPrep.DropColumnsBlock\\\\\\\\\\\\\", \\\\\\\\\\\\\"arguments\\\\\\\\\\\\\": {\\\\\\\\\\\\\"columns\\\\\\\\\\\\\": {\\\\\\\\\\\\\"type\\\\\\\\\\\\\": 0, \\\\\\\\\\\\\"details\\\\\\\\\\\\\": {\\\\\\\\\\\\\"selectedColumns\\\\\\\\\\\\\": [\\\\\\\\\\\\\"enrollee_id\\\\\\\\\\\\\", \\\\\\\\\\\\\"city\\\\\\\\\\\\\"]}}}, \\\\\\\\\\\\\"localData\\\\\\\\\\\\\": {}, \\\\\\\\\\\\\"isEnabled\\\\\\\\\\\\\": true, \\\\\\\\\\\\\"name\\\\\\\\\\\\\": null, \\\\\\\\\\\\\"annotation\\\\\\\\\\\\\": null}], \\\\\\\\\\\\\"inspectors\\\\\\\\\\\\\": [], \\\\\\\\\\\\\"meta\\\\\\\\\\\\\": {\\\\\\\\\\\\\"savedDatasetId\\\\\\\\\\\\\": \\\\\\\\\\\\\"8218dbc8-ac74-4159-a9a2-86fc38236840\\\\\\\\\\\\\", \\\\\\\\\\\\\"datasetType\\\\\\\\\\\\\": \\\\\\\\\\\\\"tabular\\\\\\\\\\\\\", \\\\\\\\\\\\\"subscriptionId\\\\\\\\\\\\\": \\\\\\\\\\\\\"81cefad3-d2c9-4f77-a466-99a7f541c7bb\\\\\\\\\\\\\", \\\\\\\\\\\\\"workspaceId\\\\\\\\\\\\\": \\\\\\\\\\\\\"d5d18d10-1940-44f7-93b7-8cff704998c1\\\\\\\\\\\\\", \\\\\\\\\\\\\"workspaceLocation\\\\\\\\\\\\\": \\\\\\\\\\\\\"southcentralus\\\\\\\\\\\\\"}}\\\\\", \\\\\"activities\\\\\": 0}',\n",
       "  'EnableSubsampling': None,\n",
       "  'runTemplate': 'AutoML',\n",
       "  'azureml.runsource': 'automl',\n",
       "  'display_task_type': 'classification',\n",
       "  'dependencies_versions': '{\"azureml-widgets\": \"1.19.0\", \"azureml-train\": \"1.19.0\", \"azureml-train-restclients-hyperdrive\": \"1.19.0\", \"azureml-train-core\": \"1.19.0\", \"azureml-train-automl\": \"1.19.0\", \"azureml-train-automl-runtime\": \"1.19.0\", \"azureml-train-automl-client\": \"1.19.0\", \"azureml-tensorboard\": \"1.19.0\", \"azureml-telemetry\": \"1.19.0\", \"azureml-sdk\": \"1.19.0\", \"azureml-samples\": \"0+unknown\", \"azureml-pipeline\": \"1.19.0\", \"azureml-pipeline-steps\": \"1.19.0\", \"azureml-pipeline-core\": \"1.19.0\", \"azureml-opendatasets\": \"1.19.0\", \"azureml-model-management-sdk\": \"1.0.1b6.post1\", \"azureml-mlflow\": \"1.19.0\", \"azureml-interpret\": \"1.19.0\", \"azureml-explain-model\": \"1.19.0\", \"azureml-defaults\": \"1.19.0\", \"azureml-dataset-runtime\": \"1.19.0\", \"azureml-dataprep\": \"2.6.1\", \"azureml-dataprep-rslex\": \"1.4.0\", \"azureml-dataprep-native\": \"26.0.0\", \"azureml-datadrift\": \"1.19.0\", \"azureml-core\": \"1.19.0\", \"azureml-contrib-services\": \"1.19.0\", \"azureml-contrib-server\": \"1.19.0\", \"azureml-contrib-reinforcementlearning\": \"1.19.0\", \"azureml-contrib-pipeline-steps\": \"1.19.0\", \"azureml-contrib-notebook\": \"1.19.0\", \"azureml-contrib-interpret\": \"1.19.0\", \"azureml-contrib-gbdt\": \"1.19.0\", \"azureml-contrib-fairness\": \"1.19.0\", \"azureml-contrib-dataset\": \"1.19.0\", \"azureml-cli-common\": \"1.19.0\", \"azureml-automl-runtime\": \"1.19.0\", \"azureml-automl-core\": \"1.19.0\", \"azureml-accel-models\": \"1.19.0\"}',\n",
       "  '_aml_system_scenario_identification': 'Remote.Parent',\n",
       "  'ClientType': 'SDK',\n",
       "  'environment_cpu_name': 'AzureML-AutoML',\n",
       "  'environment_cpu_label': 'prod',\n",
       "  'environment_gpu_name': 'AzureML-AutoML-GPU',\n",
       "  'environment_gpu_label': 'prod',\n",
       "  'root_attribution': 'automl',\n",
       "  'attribution': 'AutoML',\n",
       "  'Orchestrator': 'AutoML',\n",
       "  'CancelUri': 'https://southcentralus.experiments.azureml.net/jasmine/v1.0/subscriptions/81cefad3-d2c9-4f77-a466-99a7f541c7bb/resourceGroups/aml-quickstarts-134223/providers/Microsoft.MachineLearningServices/workspaces/quick-starts-ws-134223/experimentids/60c0c3ee-5325-451e-881b-4486c3a00768/cancel/AutoML_1a933934-0ea3-4fc1-b8da-5644fb2b70f1',\n",
       "  'ClientSdkVersion': '1.19.0',\n",
       "  'snapshotId': '00000000-0000-0000-0000-000000000000',\n",
       "  'SetupRunId': 'AutoML_1a933934-0ea3-4fc1-b8da-5644fb2b70f1_setup',\n",
       "  'SetupRunContainerId': 'dcid.AutoML_1a933934-0ea3-4fc1-b8da-5644fb2b70f1_setup',\n",
       "  'FeaturizationRunJsonPath': 'featurizer_container.json',\n",
       "  'FeaturizationRunId': 'AutoML_1a933934-0ea3-4fc1-b8da-5644fb2b70f1_featurize',\n",
       "  'ProblemInfoJsonString': '{\"dataset_num_categorical\": 0, \"is_sparse\": true, \"subsampling\": false, \"dataset_classes\": 2, \"dataset_features\": 78, \"dataset_samples\": 19158, \"single_frequency_class_detected\": false}',\n",
       "  'ModelExplainRunId': 'AutoML_1a933934-0ea3-4fc1-b8da-5644fb2b70f1_ModelExplain'},\n",
       " 'inputDatasets': [{'dataset': {'id': '8218dbc8-ac74-4159-a9a2-86fc38236840'}, 'consumptionDetails': {'type': 'RunInput', 'inputName': 'training_data', 'mechanism': 'Direct'}}],\n",
       " 'outputDatasets': [],\n",
       " 'logFiles': {}}"
      ]
     },
     "execution_count": 12,
     "metadata": {},
     "output_type": "execute_result"
    }
   ],
   "source": [
    "remote_run.wait_for_completion(show_output=True)"
   ]
  },
  {
   "cell_type": "markdown",
   "metadata": {},
   "source": [
    "## Best Model"
   ]
  },
  {
   "cell_type": "code",
   "execution_count": 13,
   "metadata": {
    "gather": {
     "logged": 1610273581014
    },
    "jupyter": {
     "outputs_hidden": false,
     "source_hidden": false
    },
    "nteract": {
     "transient": {
      "deleting": false
     }
    }
   },
   "outputs": [
    {
     "data": {
      "text/plain": [
       "PreFittedSoftVotingClassifier(classification_labels=None,\n",
       "                              estimators=[('0',\n",
       "                                           Pipeline(memory=None,\n",
       "                                                    steps=[('maxabsscaler',\n",
       "                                                            MaxAbsScaler(copy=True)),\n",
       "                                                           ('lightgbmclassifier',\n",
       "                                                            LightGBMClassifier(boosting_type='gbdt',\n",
       "                                                                               class_weight=None,\n",
       "                                                                               colsample_bytree=1.0,\n",
       "                                                                               importance_type='split',\n",
       "                                                                               learning_rate=0.1,\n",
       "                                                                               max_depth=-1,\n",
       "                                                                               min_child_samples=20,\n",
       "                                                                               min_child_weight=0.001,\n",
       "                                                                               min_spl...\n",
       "                                                                                   min_impurity_split=None,\n",
       "                                                                                   min_samples_leaf=0.01,\n",
       "                                                                                   min_samples_split=0.01,\n",
       "                                                                                   min_weight_fraction_leaf=0.0,\n",
       "                                                                                   n_estimators=25,\n",
       "                                                                                   n_jobs=-1,\n",
       "                                                                                   oob_score=True,\n",
       "                                                                                   random_state=None,\n",
       "                                                                                   verbose=0,\n",
       "                                                                                   warm_start=False))],\n",
       "                                                    verbose=False))],\n",
       "                              flatten_transform=None,\n",
       "                              weights=[0.2, 0.06666666666666667,\n",
       "                                       0.06666666666666667, 0.06666666666666667,\n",
       "                                       0.06666666666666667, 0.2,\n",
       "                                       0.06666666666666667, 0.06666666666666667,\n",
       "                                       0.2])"
      ]
     },
     "execution_count": 13,
     "metadata": {},
     "output_type": "execute_result"
    }
   ],
   "source": [
    "best_auto_run, best_auto_model = remote_run.get_output()\n",
    "best_auto_model._final_estimator"
   ]
  },
  {
   "cell_type": "code",
   "execution_count": 14,
   "metadata": {
    "gather": {
     "logged": 1610273610008
    },
    "jupyter": {
     "outputs_hidden": false,
     "source_hidden": false
    },
    "nteract": {
     "transient": {
      "deleting": false
     }
    }
   },
   "outputs": [
    {
     "data": {
      "text/plain": [
       "['results/automl_best_model.joblib']"
      ]
     },
     "execution_count": 14,
     "metadata": {},
     "output_type": "execute_result"
    }
   ],
   "source": [
    "joblib.dump(best_auto_model, filename=\"results/automl_best_model.joblib\")"
   ]
  },
  {
   "cell_type": "markdown",
   "metadata": {},
   "source": [
    "## Model Deployment"
   ]
  },
  {
   "cell_type": "code",
   "execution_count": 27,
   "metadata": {
    "gather": {
     "logged": 1610273642108
    },
    "jupyter": {
     "outputs_hidden": false,
     "source_hidden": false
    },
    "nteract": {
     "transient": {
      "deleting": false
     }
    }
   },
   "outputs": [],
   "source": [
    "env = best_auto_run.get_environment()\n",
    "\n",
    "entry_script='score.py'\n",
    "\n",
    "best_auto_run.download_file('outputs/scoring_file_v_1_0_0.py', entry_script)"
   ]
  },
  {
   "cell_type": "code",
   "execution_count": 28,
   "metadata": {
    "gather": {
     "logged": 1610273991318
    }
   },
   "outputs": [],
   "source": [
    "model = remote_run.register_model(model_name=best_auto_run.properties['model_name'], \n",
    "                                           description='AutoML model')\n",
    "inference_config = InferenceConfig(entry_script = entry_script, environment = env)\n",
    "deployment_config = AciWebservice.deploy_configuration(cpu_cores = 1, memory_gb = 1)"
   ]
  },
  {
   "cell_type": "code",
   "execution_count": 29,
   "metadata": {},
   "outputs": [
    {
     "name": "stdout",
     "output_type": "stream",
     "text": [
      "Tips: You can try get_logs(): https://aka.ms/debugimage#dockerlog or local deployment: https://aka.ms/debugimage#debug-locally to debug if deployment takes longer than 10 minutes.\n",
      "Running......................................\n",
      "Succeeded\n",
      "ACI service creation operation finished, operation \"Succeeded\"\n",
      "State: Healthy\n",
      "Scoring URI: http://d86c8f6d-4026-41c5-88ac-8bcd72752825.southcentralus.azurecontainer.io/score\n"
     ]
    }
   ],
   "source": [
    "service = Model.deploy(ws, 'employee-churn-api', [model], inference_config, deployment_config)\n",
    "service.wait_for_deployment(True)\n",
    "print(\"State: \" + service.state)\n",
    "print(\"Scoring URI: \" + service.scoring_uri)"
   ]
  },
  {
   "cell_type": "markdown",
   "metadata": {
    "collapsed": true,
    "gather": {
     "logged": 1598431657736
    },
    "jupyter": {
     "outputs_hidden": false,
     "source_hidden": false
    },
    "nteract": {
     "transient": {
      "deleting": false
     }
    }
   },
   "source": [
    "TODO: In the cell below, send a request to the web service you deployed to test it."
   ]
  },
  {
   "cell_type": "code",
   "execution_count": 30,
   "metadata": {
    "gather": {
     "logged": 1598432707604
    },
    "jupyter": {
     "outputs_hidden": false,
     "source_hidden": false
    },
    "nteract": {
     "transient": {
      "deleting": false
     }
    }
   },
   "outputs": [
    {
     "name": "stdout",
     "output_type": "stream",
     "text": [
      "{\"result\": [0.0, 0.0]}\n"
     ]
    }
   ],
   "source": [
    "%run endpoint.py"
   ]
  },
  {
   "cell_type": "markdown",
   "metadata": {
    "collapsed": true,
    "gather": {
     "logged": 1598432765711
    },
    "jupyter": {
     "outputs_hidden": false,
     "source_hidden": false
    },
    "nteract": {
     "transient": {
      "deleting": false
     }
    }
   },
   "source": [
    "TODO: In the cell below, print the logs of the web service and delete the service"
   ]
  },
  {
   "cell_type": "code",
   "execution_count": 31,
   "metadata": {
    "jupyter": {
     "outputs_hidden": false,
     "source_hidden": false
    },
    "nteract": {
     "transient": {
      "deleting": false
     }
    }
   },
   "outputs": [
    {
     "data": {
      "text/plain": [
       "'2021-01-10T16:06:08,083749400+00:00 - iot-server/run \\n2021-01-10T16:06:08,090281200+00:00 - nginx/run \\n2021-01-10T16:06:08,092419800+00:00 - rsyslog/run \\n2021-01-10T16:06:08,094255100+00:00 - gunicorn/run \\n/usr/sbin/nginx: /azureml-envs/azureml_8eff28b157f42edcd2424a5aae6c8074/lib/libcrypto.so.1.0.0: no version information available (required by /usr/sbin/nginx)\\n/usr/sbin/nginx: /azureml-envs/azureml_8eff28b157f42edcd2424a5aae6c8074/lib/libcrypto.so.1.0.0: no version information available (required by /usr/sbin/nginx)\\n/usr/sbin/nginx: /azureml-envs/azureml_8eff28b157f42edcd2424a5aae6c8074/lib/libssl.so.1.0.0: no version information available (required by /usr/sbin/nginx)\\n/usr/sbin/nginx: /azureml-envs/azureml_8eff28b157f42edcd2424a5aae6c8074/lib/libssl.so.1.0.0: no version information available (required by /usr/sbin/nginx)\\n/usr/sbin/nginx: /azureml-envs/azureml_8eff28b157f42edcd2424a5aae6c8074/lib/libssl.so.1.0.0: no version information available (required by /usr/sbin/nginx)\\nrsyslogd: /azureml-envs/azureml_8eff28b157f42edcd2424a5aae6c8074/lib/libuuid.so.1: no version information available (required by rsyslogd)\\nEdgeHubConnectionString and IOTEDGE_IOTHUBHOSTNAME are not set. Exiting...\\n2021-01-10T16:06:09,292941700+00:00 - iot-server/finish 1 0\\n2021-01-10T16:06:09,296166000+00:00 - Exit code 1 is normal. Not restarting iot-server.\\nStarting gunicorn 19.9.0\\nListening at: http://127.0.0.1:31311 (70)\\nUsing worker: sync\\nworker timeout is set to 300\\nBooting worker with pid: 100\\nSPARK_HOME not set. Skipping PySpark Initialization.\\nGenerating new fontManager, this may take some time...\\nInitializing logger\\n2021-01-10 16:06:14,782 | root | INFO | Starting up app insights client\\nStarting up app insights client\\n2021-01-10 16:06:14,783 | root | INFO | Starting up request id generator\\nStarting up request id generator\\n2021-01-10 16:06:14,783 | root | INFO | Starting up app insight hooks\\nStarting up app insight hooks\\n2021-01-10 16:06:14,784 | root | INFO | Invoking user\\'s init function\\nInvoking user\\'s init function\\n2021-01-10 16:06:22,272 | root | INFO | Users\\'s init has completed successfully\\nUsers\\'s init has completed successfully\\n2021-01-10 16:06:22,281 | root | INFO | Skipping middleware: dbg_model_info as it\\'s not enabled.\\nSkipping middleware: dbg_model_info as it\\'s not enabled.\\n2021-01-10 16:06:22,281 | root | INFO | Skipping middleware: dbg_resource_usage as it\\'s not enabled.\\nSkipping middleware: dbg_resource_usage as it\\'s not enabled.\\n2021-01-10 16:06:22,283 | root | INFO | Scoring timeout is found from os.environ: 60000 ms\\nScoring timeout is found from os.environ: 60000 ms\\n2021-01-10 16:06:22,294 | root | INFO | 200\\n200\\n127.0.0.1 - - [10/Jan/2021:16:06:22 +0000] \"GET /swagger.json HTTP/1.0\" 200 2795 \"-\" \"Go-http-client/1.1\"\\n2021-01-10 16:06:23,840 | root | INFO | 200\\n200\\n127.0.0.1 - - [10/Jan/2021:16:06:23 +0000] \"GET /swagger.json HTTP/1.0\" 200 2795 \"-\" \"Go-http-client/1.1\"\\n2021-01-10 16:07:20,860 | root | INFO | Validation Request Content-Type\\nValidation Request Content-Type\\n2021-01-10 16:07:20,861 | root | INFO | \\tHost: localhost:5001\\n\\tHost: localhost:5001\\n2021-01-10 16:07:20,861 | root | INFO | \\tX-Real-Ip: 127.0.0.1\\n\\tX-Real-Ip: 127.0.0.1\\n2021-01-10 16:07:20,861 | root | INFO | \\tX-Forwarded-For: 127.0.0.1\\n\\tX-Forwarded-For: 127.0.0.1\\n2021-01-10 16:07:20,862 | root | INFO | \\tX-Forwarded-Proto: http\\n\\tX-Forwarded-Proto: http\\n2021-01-10 16:07:20,862 | root | INFO | \\tConnection: close\\n\\tConnection: close\\n2021-01-10 16:07:20,862 | root | INFO | \\tContent-Length: 641\\n\\tContent-Length: 641\\n2021-01-10 16:07:20,862 | root | INFO | \\tUser-Agent: python-requests/2.25.0\\n\\tUser-Agent: python-requests/2.25.0\\n2021-01-10 16:07:20,863 | root | INFO | \\tAccept: */*\\n\\tAccept: */*\\n2021-01-10 16:07:20,863 | root | INFO | \\tAccept-Encoding: gzip, deflate\\n\\tAccept-Encoding: gzip, deflate\\n2021-01-10 16:07:20,863 | root | INFO | \\tContent-Type: application/json\\n\\tContent-Type: application/json\\n2021-01-10 16:07:20,863 | root | INFO | \\tX-Ms-Request-Id: 6cf3e4f7-3126-4804-bfed-47cfe1f7759e\\n\\tX-Ms-Request-Id: 6cf3e4f7-3126-4804-bfed-47cfe1f7759e\\n2021-01-10 16:07:20,863 | root | INFO | Scoring Timer is set to 60.0 seconds\\nScoring Timer is set to 60.0 seconds\\n2021-01-10 16:07:21,269 | root | INFO | 200\\n200\\n127.0.0.1 - - [10/Jan/2021:16:07:21 +0000] \"POST /score HTTP/1.0\" 200 26 \"-\" \"python-requests/2.25.0\"\\n'"
      ]
     },
     "execution_count": 31,
     "metadata": {},
     "output_type": "execute_result"
    }
   ],
   "source": [
    "service.get_logs()"
   ]
  },
  {
   "cell_type": "code",
   "execution_count": 22,
   "metadata": {},
   "outputs": [],
   "source": [
    "service.update(enable_app_insights=True)"
   ]
  },
  {
   "cell_type": "code",
   "execution_count": 26,
   "metadata": {},
   "outputs": [],
   "source": [
    "service.delete()"
   ]
  },
  {
   "cell_type": "code",
   "execution_count": null,
   "metadata": {},
   "outputs": [],
   "source": []
  }
 ],
 "metadata": {
  "kernel_info": {
   "name": "python3"
  },
  "kernelspec": {
   "display_name": "Python 3",
   "language": "python",
   "name": "python3"
  },
  "language_info": {
   "codemirror_mode": {
    "name": "ipython",
    "version": 3
   },
   "file_extension": ".py",
   "mimetype": "text/x-python",
   "name": "python",
   "nbconvert_exporter": "python",
   "pygments_lexer": "ipython3",
   "version": "3.6.12"
  },
  "nteract": {
   "version": "nteract-front-end@1.0.0"
  }
 },
 "nbformat": 4,
 "nbformat_minor": 2
}
